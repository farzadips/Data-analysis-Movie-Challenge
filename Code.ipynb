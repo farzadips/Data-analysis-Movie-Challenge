{
 "cells": [
  {
   "cell_type": "code",
   "execution_count": 64,
   "source": [
    "import pandas as pd\r\n",
    "import numpy as np\r\n",
    "import json\r\n",
    "import string\r\n",
    "import matplotlib.pyplot as plt \r\n",
    "import seaborn as sns\r\n",
    "from tqdm import tqdm\r\n",
    "from sklearn.feature_extraction.text import TfidfVectorizer\r\n",
    "from sklearn.model_selection import train_test_split\r\n",
    "import nltk\r\n",
    "from sklearn.metrics import roc_auc_score, roc_curve, precision_recall_curve, confusion_matrix\r\n",
    "import operator\r\n",
    "from sklearn.svm import LinearSVC\r\n",
    "from sklearn.pipeline import Pipeline\r\n",
    "from sklearn.svm import LinearSVC\r\n",
    "from sklearn.svm import SVC\r\n",
    "from ast import literal_eval\r\n",
    "\r\n",
    "from sklearn.model_selection import GridSearchCV\r\n",
    "from sklearn.preprocessing import StandardScaler\r\n",
    "import warnings\r\n",
    "from sklearn.tree import DecisionTreeClassifier\r\n",
    "from sklearn.linear_model import SGDClassifier\r\n",
    "\r\n",
    "warnings.filterwarnings('ignore')\r\n",
    "\r\n",
    "from sklearn.linear_model import LogisticRegression\r\n",
    "from sklearn.multiclass import OneVsRestClassifier\r\n",
    "from sklearn.metrics import f1_score\r\n",
    "from nltk import word_tokenize, FreqDist\r\n",
    "from nltk.corpus import stopwords\r\n",
    "from sklearn.naive_bayes import MultinomialNB\r\n",
    "from sklearn.model_selection import train_test_split, GridSearchCV\r\n",
    "import tensorflow as tf\r\n",
    "from tensorflow import keras\r\n",
    "from tensorflow.keras import layers\r\n",
    "import re\r\n",
    "from tensorflow.keras.layers import Flatten, Dense, Dropout, BatchNormalization, Conv2D, MaxPool2D\r\n",
    "import spacy\r\n",
    "from spacy.lang.en.examples import sentences"
   ],
   "outputs": [],
   "metadata": {}
  },
  {
   "cell_type": "code",
   "execution_count": 65,
   "source": [
    "df = pd.read_csv(\"movies.csv\")\r\n",
    "df.head()"
   ],
   "outputs": [
    {
     "output_type": "execute_result",
     "data": {
      "text/html": [
       "<div>\n",
       "<style scoped>\n",
       "    .dataframe tbody tr th:only-of-type {\n",
       "        vertical-align: middle;\n",
       "    }\n",
       "\n",
       "    .dataframe tbody tr th {\n",
       "        vertical-align: top;\n",
       "    }\n",
       "\n",
       "    .dataframe thead th {\n",
       "        text-align: right;\n",
       "    }\n",
       "</style>\n",
       "<table border=\"1\" class=\"dataframe\">\n",
       "  <thead>\n",
       "    <tr style=\"text-align: right;\">\n",
       "      <th></th>\n",
       "      <th>movie_id</th>\n",
       "      <th>year</th>\n",
       "      <th>synopsis</th>\n",
       "      <th>genres</th>\n",
       "    </tr>\n",
       "  </thead>\n",
       "  <tbody>\n",
       "    <tr>\n",
       "      <th>0</th>\n",
       "      <td>30924</td>\n",
       "      <td>2005</td>\n",
       "      <td>Cruel But Necessary is the story of Betty Muns...</td>\n",
       "      <td>Drama</td>\n",
       "    </tr>\n",
       "    <tr>\n",
       "      <th>1</th>\n",
       "      <td>34841</td>\n",
       "      <td>2012</td>\n",
       "      <td>Yorkshire, 1974, the Maynard family moves into...</td>\n",
       "      <td>Drama Horror Thriller</td>\n",
       "    </tr>\n",
       "    <tr>\n",
       "      <th>2</th>\n",
       "      <td>23408</td>\n",
       "      <td>2017</td>\n",
       "      <td>When a renowned architecture scholar falls sud...</td>\n",
       "      <td>Drama</td>\n",
       "    </tr>\n",
       "    <tr>\n",
       "      <th>3</th>\n",
       "      <td>39470</td>\n",
       "      <td>1996</td>\n",
       "      <td>The story dealt with Lord Rama and his retalia...</td>\n",
       "      <td>Children Drama</td>\n",
       "    </tr>\n",
       "    <tr>\n",
       "      <th>4</th>\n",
       "      <td>7108</td>\n",
       "      <td>2003</td>\n",
       "      <td>A Thai playboy cons a girl into bed and then l...</td>\n",
       "      <td>Comedy Drama Horror Thriller</td>\n",
       "    </tr>\n",
       "  </tbody>\n",
       "</table>\n",
       "</div>"
      ],
      "text/plain": [
       "   movie_id  year                                           synopsis  \\\n",
       "0     30924  2005  Cruel But Necessary is the story of Betty Muns...   \n",
       "1     34841  2012  Yorkshire, 1974, the Maynard family moves into...   \n",
       "2     23408  2017  When a renowned architecture scholar falls sud...   \n",
       "3     39470  1996  The story dealt with Lord Rama and his retalia...   \n",
       "4      7108  2003  A Thai playboy cons a girl into bed and then l...   \n",
       "\n",
       "                         genres  \n",
       "0                         Drama  \n",
       "1         Drama Horror Thriller  \n",
       "2                         Drama  \n",
       "3                Children Drama  \n",
       "4  Comedy Drama Horror Thriller  "
      ]
     },
     "metadata": {},
     "execution_count": 65
    }
   ],
   "metadata": {}
  },
  {
   "cell_type": "code",
   "execution_count": 66,
   "source": [
    "\r\n",
    "df.info()"
   ],
   "outputs": [
    {
     "output_type": "stream",
     "name": "stdout",
     "text": [
      "<class 'pandas.core.frame.DataFrame'>\n",
      "RangeIndex: 35488 entries, 0 to 35487\n",
      "Data columns (total 4 columns):\n",
      " #   Column    Non-Null Count  Dtype \n",
      "---  ------    --------------  ----- \n",
      " 0   movie_id  35488 non-null  int64 \n",
      " 1   year      35488 non-null  int64 \n",
      " 2   synopsis  35488 non-null  object\n",
      " 3   genres    35488 non-null  object\n",
      "dtypes: int64(2), object(2)\n",
      "memory usage: 1.1+ MB\n"
     ]
    }
   ],
   "metadata": {}
  },
  {
   "cell_type": "code",
   "execution_count": 67,
   "source": [
    "\r\n",
    "df = df[~(df['genres'].str.len() == 0)]"
   ],
   "outputs": [],
   "metadata": {}
  },
  {
   "cell_type": "code",
   "execution_count": 68,
   "source": [
    "#Convert the string labels to lists of strings\r\n",
    "\r\n",
    "genres = [] \r\n",
    "\r\n",
    "for i in df['genres']: \r\n",
    "  genres.append((i.split(' '))) \r\n",
    "\r\n",
    "df['genres'] = genres"
   ],
   "outputs": [],
   "metadata": {}
  },
  {
   "cell_type": "code",
   "execution_count": 69,
   "source": [
    "df['genres'].values[:5]\r\n"
   ],
   "outputs": [
    {
     "output_type": "execute_result",
     "data": {
      "text/plain": [
       "array([list(['Drama']), list(['Drama', 'Horror', 'Thriller']),\n",
       "       list(['Drama']), list(['Children', 'Drama']),\n",
       "       list(['Comedy', 'Drama', 'Horror', 'Thriller'])], dtype=object)"
      ]
     },
     "metadata": {},
     "execution_count": 69
    }
   ],
   "metadata": {}
  },
  {
   "cell_type": "code",
   "execution_count": 70,
   "source": [
    "all_genres = sum(genres,[])\r\n",
    "len(set(all_genres))"
   ],
   "outputs": [
    {
     "output_type": "execute_result",
     "data": {
      "text/plain": [
       "19"
      ]
     },
     "metadata": {},
     "execution_count": 70
    }
   ],
   "metadata": {}
  },
  {
   "cell_type": "code",
   "execution_count": 71,
   "source": [
    "all_genres = nltk.FreqDist(all_genres) \r\n",
    "all_genres_df = pd.DataFrame({'Genre': list(all_genres.keys()), \r\n",
    "                              'Count': list(all_genres.values())})"
   ],
   "outputs": [],
   "metadata": {}
  },
  {
   "cell_type": "code",
   "execution_count": 72,
   "source": [
    "g = all_genres_df.nlargest(columns=\"Count\", n = 50) \r\n",
    "plt.figure(figsize=(12,15)) \r\n",
    "ax = sns.barplot(data=g, x= \"Count\", y = \"Genre\") \r\n",
    "ax.set(ylabel = 'Count') \r\n",
    "plt.show()"
   ],
   "outputs": [
    {
     "output_type": "display_data",
     "data": {
      "image/png": "[encoded data removed]",
      "text/plain": [
       "<Figure size 864x1080 with 1 Axes>"
      ]
     },
     "metadata": {
      "needs_background": "light"
     }
    }
   ],
   "metadata": {}
  },
  {
   "cell_type": "markdown",
   "source": [
    "# The function below will visualize the words and their frequency in a set of documents. Let’s use it to find out the most frequent words in the movies"
   ],
   "metadata": {}
  },
  {
   "cell_type": "code",
   "execution_count": 73,
   "source": [
    "def freq_words(x, terms = 30): \r\n",
    "  all_words = ' '.join([text for text in x]) \r\n",
    "  all_words = all_words.split() \r\n",
    "  fdist = nltk.FreqDist(all_words) \r\n",
    "  words_df = pd.DataFrame({'word':list(fdist.keys()), 'count':list(fdist.values())}) \r\n",
    "  \r\n",
    "  # selecting top 20 most frequent words \r\n",
    "  d = words_df.nlargest(columns=\"count\", n = terms) \r\n",
    "  \r\n",
    "  # visualize words and frequencies\r\n",
    "  plt.figure(figsize=(12,15)) \r\n",
    "  ax = sns.barplot(data=d, x= \"count\", y = \"word\") \r\n",
    "  ax.set(ylabel = 'Word') \r\n",
    "  plt.show()\r\n",
    "  \r\n",
    "# print 100 most frequent words \r\n",
    "freq_words(df['synopsis'], 100)"
   ],
   "outputs": [
    {
     "output_type": "display_data",
     "data": {
      "image/png": "[encoded data removed]",
      "text/plain": [
       "<Figure size 864x1080 with 1 Axes>"
      ]
     },
     "metadata": {
      "needs_background": "light"
     }
    }
   ],
   "metadata": {}
  },
  {
   "cell_type": "markdown",
   "source": [
    "### Most of the terms in the above plot are stopwords. These stopwords carry far less meaning than other keywords in the text (they just add noise to the data).\r\n",
    "## Creating our stopwords list and adding some more words that are very common in the summaries. \r\n",
    "## Changing the text to lower case, stopwords removal, lemmatizing"
   ],
   "metadata": {}
  },
  {
   "cell_type": "code",
   "execution_count": 74,
   "source": [
    "stopwords_list = stopwords.words('english')\r\n",
    "stopwords_list += list(string.punctuation)\r\n",
    "stopwords_list += ['one', 'two', 'go','goes', 'get', 'also', 'however', 'tells'] \r\n",
    "stopwords_list += [0, 1, 2, 3, 4, 5, 6, 7, 8, 9]\r\n",
    "def clean_text(text):\r\n",
    "    text = text.lower()\r\n",
    "    text = re.sub(r\"what's\", \"what is \", text)\r\n",
    "    text = re.sub(r\"\\'s\", \" \", text)\r\n",
    "    text = re.sub(r\"\\'ve\", \" have \", text)\r\n",
    "    text = re.sub(r\"can't\", \"can not \", text)\r\n",
    "    text = re.sub(r\"n't\", \" not \", text)\r\n",
    "    text = re.sub(r\"\\'re\", \" are \", text)\r\n",
    "    text = re.sub(r\"\\'d\", \" would \", text)\r\n",
    "    text = re.sub(r\"\\'ll\", \" will \", text)\r\n",
    "    text = re.sub(r\"\\'scuse\", \" excuse \", text)\r\n",
    "    text = re.sub('\\W', ' ', text)\r\n",
    "    text = re.sub('\\s+', ' ', text)\r\n",
    "    text = re.sub('\\d+', ' ', text)\r\n",
    "    text = text.strip(' ')\r\n",
    "    text = word_tokenize(text)\r\n",
    "    text = [w for w in text if w not in stopwords_list]\r\n",
    "    text = ' '.join(text)\r\n",
    "    return text"
   ],
   "outputs": [],
   "metadata": {}
  },
  {
   "cell_type": "code",
   "execution_count": 76,
   "source": [
    "df['synopsis'] = df['synopsis'].map(lambda x : clean_text(x))\r\n"
   ],
   "outputs": [],
   "metadata": {}
  },
  {
   "cell_type": "code",
   "execution_count": 77,
   "source": [
    "df['synopsis']"
   ],
   "outputs": [
    {
     "output_type": "execute_result",
     "data": {
      "text/plain": [
       "0        cruel necessary story betty munson strange jou...\n",
       "1        yorkshire maynard family moves dream house dre...\n",
       "2        renowned architecture scholar falls suddenly i...\n",
       "3        story dealt lord rama retaliation ravana chara...\n",
       "4        thai playboy cons girl bed leaves finding preg...\n",
       "                               ...                        \n",
       "35483    prequel mou gaan dou chan wing yan become unde...\n",
       "35484    ann husband george son georgie arrive holiday ...\n",
       "35485    former sports star fallen hard times starts co...\n",
       "35486    hard hitting western drama starring mitchum or...\n",
       "35487    abner peacock knotts beloved bird watcher maga...\n",
       "Name: synopsis, Length: 35488, dtype: object"
      ]
     },
     "metadata": {},
     "execution_count": 77
    }
   ],
   "metadata": {}
  },
  {
   "cell_type": "markdown",
   "source": [
    "## I’d also like to normalize the text, aka, perform text normalization. This helps in reducing a word to its base form. For example, the base form of the words ‘produces’, ‘production’, and ‘producing’ is ‘product’. "
   ],
   "metadata": {}
  },
  {
   "cell_type": "code",
   "execution_count": 78,
   "source": [
    "df = df.drop(columns=['year'])"
   ],
   "outputs": [],
   "metadata": {}
  },
  {
   "cell_type": "code",
   "execution_count": 79,
   "source": [
    "df.head()"
   ],
   "outputs": [
    {
     "output_type": "execute_result",
     "data": {
      "text/html": [
       "<div>\n",
       "<style scoped>\n",
       "    .dataframe tbody tr th:only-of-type {\n",
       "        vertical-align: middle;\n",
       "    }\n",
       "\n",
       "    .dataframe tbody tr th {\n",
       "        vertical-align: top;\n",
       "    }\n",
       "\n",
       "    .dataframe thead th {\n",
       "        text-align: right;\n",
       "    }\n",
       "</style>\n",
       "<table border=\"1\" class=\"dataframe\">\n",
       "  <thead>\n",
       "    <tr style=\"text-align: right;\">\n",
       "      <th></th>\n",
       "      <th>movie_id</th>\n",
       "      <th>synopsis</th>\n",
       "      <th>genres</th>\n",
       "    </tr>\n",
       "  </thead>\n",
       "  <tbody>\n",
       "    <tr>\n",
       "      <th>0</th>\n",
       "      <td>30924</td>\n",
       "      <td>cruel necessary story betty munson strange jou...</td>\n",
       "      <td>[Drama]</td>\n",
       "    </tr>\n",
       "    <tr>\n",
       "      <th>1</th>\n",
       "      <td>34841</td>\n",
       "      <td>yorkshire maynard family moves dream house dre...</td>\n",
       "      <td>[Drama, Horror, Thriller]</td>\n",
       "    </tr>\n",
       "    <tr>\n",
       "      <th>2</th>\n",
       "      <td>23408</td>\n",
       "      <td>renowned architecture scholar falls suddenly i...</td>\n",
       "      <td>[Drama]</td>\n",
       "    </tr>\n",
       "    <tr>\n",
       "      <th>3</th>\n",
       "      <td>39470</td>\n",
       "      <td>story dealt lord rama retaliation ravana chara...</td>\n",
       "      <td>[Children, Drama]</td>\n",
       "    </tr>\n",
       "    <tr>\n",
       "      <th>4</th>\n",
       "      <td>7108</td>\n",
       "      <td>thai playboy cons girl bed leaves finding preg...</td>\n",
       "      <td>[Comedy, Drama, Horror, Thriller]</td>\n",
       "    </tr>\n",
       "  </tbody>\n",
       "</table>\n",
       "</div>"
      ],
      "text/plain": [
       "   movie_id                                           synopsis  \\\n",
       "0     30924  cruel necessary story betty munson strange jou...   \n",
       "1     34841  yorkshire maynard family moves dream house dre...   \n",
       "2     23408  renowned architecture scholar falls suddenly i...   \n",
       "3     39470  story dealt lord rama retaliation ravana chara...   \n",
       "4      7108  thai playboy cons girl bed leaves finding preg...   \n",
       "\n",
       "                              genres  \n",
       "0                            [Drama]  \n",
       "1          [Drama, Horror, Thriller]  \n",
       "2                            [Drama]  \n",
       "3                  [Children, Drama]  \n",
       "4  [Comedy, Drama, Horror, Thriller]  "
      ]
     },
     "metadata": {},
     "execution_count": 79
    }
   ],
   "metadata": {}
  },
  {
   "cell_type": "markdown",
   "source": [
    "# we will treat this multi-label classification problem as a Binary Relevance problem. \r\n",
    "## Hence, we will now one hot encode the target variable, i.e., genre_new by using sklearn’s MultiLabelBinarizer( ). Since there are 18 unique genre tags, there are going to be 18 new target variables."
   ],
   "metadata": {}
  },
  {
   "cell_type": "code",
   "execution_count": 80,
   "source": [
    "\r\n",
    "from sklearn.preprocessing import MultiLabelBinarizer\r\n",
    "\r\n",
    "multilabel_binarizer = MultiLabelBinarizer()\r\n",
    "multilabel_binarizer.fit(df['genres'])\r\n",
    "y = multilabel_binarizer.transform(df['genres'])\r\n",
    "df['genres']"
   ],
   "outputs": [
    {
     "output_type": "execute_result",
     "data": {
      "text/plain": [
       "0                                  [Drama]\n",
       "1                [Drama, Horror, Thriller]\n",
       "2                                  [Drama]\n",
       "3                        [Children, Drama]\n",
       "4        [Comedy, Drama, Horror, Thriller]\n",
       "                       ...                \n",
       "35483     [Action, Crime, Drama, Thriller]\n",
       "35484                    [Drama, Thriller]\n",
       "35485                    [Comedy, Romance]\n",
       "35486                  [Thriller, Western]\n",
       "35487                             [Comedy]\n",
       "Name: genres, Length: 35488, dtype: object"
      ]
     },
     "metadata": {},
     "execution_count": 80
    }
   ],
   "metadata": {}
  },
  {
   "cell_type": "markdown",
   "source": [
    "# Before creating TF-IDF features, we will split our data into train and validation sets for training and evaluating our model’s performance. I’m going with a 80-20 split – 80% of the data samples in the train set and the rest in the validation set"
   ],
   "metadata": {}
  },
  {
   "cell_type": "code",
   "execution_count": 81,
   "source": [
    "X_train, X_test, y_train, y_test = train_test_split(df['synopsis'], y, test_size=0.2, random_state=9)"
   ],
   "outputs": [],
   "metadata": {}
  },
  {
   "cell_type": "markdown",
   "source": [
    "# Now, it’s time to turn our focus to extracting features from the cleaned version of the movie plots data. For this article, I will be using TF-IDF features.\r\n",
    "## Now we can create features for the train and the validation set:\r\n",
    "\r\n"
   ],
   "metadata": {}
  },
  {
   "cell_type": "code",
   "execution_count": 82,
   "source": [
    "vectorizer = TfidfVectorizer(max_df=0.8 , lowercase=False,max_features=20000)\r\n",
    "X_train = vectorizer.fit_transform(X_train)\r\n",
    "\r\n"
   ],
   "outputs": [],
   "metadata": {}
  },
  {
   "cell_type": "code",
   "execution_count": 83,
   "source": [
    "df1 = pd.DataFrame(X_train[0].T.todense(), index=vectorizer.get_feature_names(), columns=[\"TF-IDF\"])\r\n",
    "df1 = df1.sort_values('TF-IDF', ascending=False)\r\n",
    "print (df1.head(25))"
   ],
   "outputs": [
    {
     "output_type": "stream",
     "name": "stdout",
     "text": [
      "                TF-IDF\n",
      "elisabeth     0.589132\n",
      "hamburg       0.290000\n",
      "happy         0.197120\n",
      "dies          0.191169\n",
      "erich         0.159133\n",
      "long          0.153644\n",
      "confusing     0.143964\n",
      "disappointed  0.142062\n",
      "budding       0.134253\n",
      "confesses     0.131618\n",
      "affections    0.131136\n",
      "inherits      0.125865\n",
      "time          0.123762\n",
      "studies       0.121299\n",
      "loyal         0.119767\n",
      "eric          0.119767\n",
      "stays         0.119050\n",
      "love          0.114542\n",
      "spent         0.111580\n",
      "musician      0.107917\n",
      "visits        0.106967\n",
      "ready         0.106851\n",
      "farm          0.103059\n",
      "meeting       0.101991\n",
      "asks          0.099805\n"
     ]
    }
   ],
   "metadata": {}
  },
  {
   "cell_type": "code",
   "execution_count": 84,
   "source": [
    "X_test = vectorizer.transform(X_test)\r\n"
   ],
   "outputs": [],
   "metadata": {}
  },
  {
   "cell_type": "markdown",
   "source": [
    "# LogisticRegression\r\n",
    "## I will build a Logistic Regression model as it is quick to train on limited computational power\r\n",
    "### We will use sk-learn’s OneVsRestClassifier class to solve this problem as a Binary Relevance or one-vs-all problem:"
   ],
   "metadata": {}
  },
  {
   "cell_type": "code",
   "execution_count": 186,
   "source": [
    "lr_grid = {\r\n",
    "    'estimator__penalty' : ['l1', 'l2'],\r\n",
    "    'estimator__C' : [ 1e4, 1e10],\r\n",
    "    'estimator__class_weight' : ['balanced', None],\r\n",
    "    'estimator__solver' : ['lbfgs', 'liblinear'],\r\n",
    "    'estimator__multi_class' : ['ovr', 'multinomial']\r\n",
    "}\r\n",
    "\r\n",
    "lr = LogisticRegression()\r\n",
    "clf = OneVsRestClassifier(lr)\r\n",
    "logreg_tfidf_gs = GridSearchCV(clf, param_grid = lr_grid, cv = 5)\r\n",
    "logreg_tfidf_gs.fit(X_train, y_train)\r\n",
    "print(logreg_tfidf_gs.best_score_)\r\n",
    "model_resultstfidf['Logistic Regression'] = logreg_tfidf_gs.best_score_"
   ],
   "outputs": [
    {
     "output_type": "stream",
     "name": "stdout",
     "text": [
      "0.1477632969355407\n"
     ]
    }
   ],
   "metadata": {}
  },
  {
   "cell_type": "markdown",
   "source": [
    "# It is a binary one-dimensional array of length 20. Basically, it is the one-hot encoded form of the unique genre tags. We will have to find a way to convert it into movie genre tags.\r\n",
    "\r\n",
    "## We will use the inverse_transform( ) function along with the MultiLabelBinarizer( ) object to convert the predicted arrays into movie genre tags:"
   ],
   "metadata": {}
  },
  {
   "cell_type": "code",
   "execution_count": 187,
   "source": [
    "y_pred = logreg_tfidf_gs.predict(X_test)\r\n"
   ],
   "outputs": [],
   "metadata": {}
  },
  {
   "cell_type": "code",
   "execution_count": 188,
   "source": [
    "f1_score(y_test, y_pred, average=\"micro\")\r\n"
   ],
   "outputs": [
    {
     "output_type": "execute_result",
     "data": {
      "text/plain": [
       "0.4744228157537347"
      ]
     },
     "metadata": {},
     "execution_count": 188
    }
   ],
   "metadata": {}
  },
  {
   "cell_type": "markdown",
   "source": [
    "# These predictions were made based on a threshold value of 0.5, which means that the probabilities greater than or equal to 0.5 were converted to 1’s and the rest to 0’s.\r\n",
    "\r\n",
    "## Let’s try to change this threshold value and see if that improves our model’s score:\r\n",
    "### I did a grid search to do this\r\n"
   ],
   "metadata": {}
  },
  {
   "cell_type": "markdown",
   "source": [
    "# Dummy Classifier\r\n",
    "### A dummy classifier is a type of classifier which does not generate any insight about the data and classifies the given data using only simple rules. It is used only as a simple baseline for the other classifiers i.e. any other classifier is expected to perform better on the given dataset."
   ],
   "metadata": {}
  },
  {
   "cell_type": "code",
   "execution_count": 67,
   "source": [
    "from sklearn.dummy import DummyClassifier\r\n",
    "dummy_grid = {\r\n",
    "    'estimator__strategy': ['most_frequent', 'stratified', 'prior', 'uniform', 'constant']\r\n",
    "}\r\n",
    "dummy = DummyClassifier( random_state = 42)\r\n",
    "clf = OneVsRestClassifier(dummy)\r\n",
    "dummy_gs = GridSearchCV(clf, param_grid = dummy_grid, cv = 5)\r\n",
    "dummy_gs.fit(X_train, y_train)\r\n",
    "print(dummy_gs.best_score_)"
   ],
   "outputs": [
    {
     "output_type": "stream",
     "name": "stdout",
     "text": [
      "0.03039802747446284\n"
     ]
    }
   ],
   "metadata": {}
  },
  {
   "cell_type": "code",
   "execution_count": 68,
   "source": [
    "y_pred = dummy_gs.predict(X_test)\r\n"
   ],
   "outputs": [],
   "metadata": {}
  },
  {
   "cell_type": "code",
   "execution_count": 71,
   "source": [
    "\r\n",
    "from sklearn.metrics import accuracy_score, classification_report\r\n",
    "print('Test Accuracy score:', accuracy_score(y_test, y_pred))"
   ],
   "outputs": [
    {
     "output_type": "stream",
     "name": "stdout",
     "text": [
      "Test Accuracy score: 0.03071287686672302\n"
     ]
    }
   ],
   "metadata": {}
  },
  {
   "cell_type": "code",
   "execution_count": 101,
   "source": [
    "for i in range(5): \r\n",
    "  print(\"\\nPredicted genre: \",multilabel_binarizer.inverse_transform(y_pred)[i]) \r\n",
    "  print(\"Actual genre: \",df['genres'][i])\r\n",
    "  print('#################################')"
   ],
   "outputs": [
    {
     "output_type": "stream",
     "name": "stdout",
     "text": [
      "\n",
      "Predicted genre:  ()\n",
      "Actual genre:  ['Drama']\n",
      "#################################\n",
      "\n",
      "Predicted genre:  ('Action', 'Adventure', 'Children', 'Comedy', 'Crime', 'Documentary', 'Drama', 'Horror', 'Mystery', 'Romance', 'Sci-Fi', 'Thriller')\n",
      "Actual genre:  ['Drama', 'Horror', 'Thriller']\n",
      "#################################\n",
      "\n",
      "Predicted genre:  ('Comedy', 'Drama')\n",
      "Actual genre:  ['Drama']\n",
      "#################################\n",
      "\n",
      "Predicted genre:  ('Drama',)\n",
      "Actual genre:  ['Children', 'Drama']\n",
      "#################################\n",
      "\n",
      "Predicted genre:  ()\n",
      "Actual genre:  ['Comedy', 'Drama', 'Horror', 'Thriller']\n",
      "#################################\n"
     ]
    }
   ],
   "metadata": {}
  },
  {
   "cell_type": "code",
   "execution_count": null,
   "source": [
    "model_resultstfidf = {}\r\n",
    "mnb_grid = {\r\n",
    "    'estimator__alpha': [0, 0.2, 0.5, 0.8, 1.0],\r\n",
    "    'estimator__fit_prior' : [True, False],\r\n",
    " 'estimator__class_prior' : [None, [.4, .3, 0.08, .07, .06, .06], [.167, .167, .167, .167, .167, .167]]\r\n",
    "}\r\n",
    "\r\n",
    "\r\n",
    "mnb = MultinomialNB()\r\n",
    "clf = OneVsRestClassifier(mnb)\r\n",
    "mnb_grid = GridSearchCV(clf, param_grid = mnb_grid, cv = 5)\r\n",
    "mnb_grid.fit(X_train, y_train)\r\n",
    "print(mnb_grid.best_score_)\r\n",
    "\r\n",
    "model_resultstfidf['Multinomial Bayes'] = mnb_grid.best_score_"
   ],
   "outputs": [
    {
     "output_type": "stream",
     "name": "stdout",
     "text": [
      "0.20517787953504754\n"
     ]
    }
   ],
   "metadata": {}
  },
  {
   "cell_type": "markdown",
   "source": [
    "# Decision Tree\r\n",
    "### creates the classification model by building a decision tree"
   ],
   "metadata": {}
  },
  {
   "cell_type": "code",
   "execution_count": 192,
   "source": [
    "grid = {\r\n",
    "    'estimator__criterion': ['gini', 'entropy'],\r\n",
    "    'estimator__max_depth': [1, 2, 5, 10],\r\n",
    "    'estimator__min_samples_split': [1, 5, 10, 20]\r\n",
    "}\r\n",
    "\r\n",
    "\r\n",
    "\r\n",
    "dt_clf = DecisionTreeClassifier (random_state = 42)\r\n",
    "clf = OneVsRestClassifier(dt_clf)\r\n",
    "gs_tfidf_tree = GridSearchCV(clf, param_grid = grid, cv = 5)\r\n",
    "gs_tfidf_tree.fit(X_train, y_train)\r\n",
    "\r\n",
    "print(gs_tfidf_tree.best_score_)\r\n",
    "model_resultstfidf['Decision Tree'] = gs_tfidf_tree.best_score_"
   ],
   "outputs": [
    {
     "output_type": "stream",
     "name": "stdout",
     "text": [
      "0.13082071151814018\n"
     ]
    }
   ],
   "metadata": {}
  },
  {
   "cell_type": "markdown",
   "source": [
    "# SGD\r\n",
    "### applying it to the regularized linear methods can help building an estimator for classification and regression problems. The SGD classifier works well with large-scale datasets and it is an efficient and easy to implement method."
   ],
   "metadata": {}
  },
  {
   "cell_type": "code",
   "execution_count": 194,
   "source": [
    "grid = {\r\n",
    "    'estimator__loss' : ['hinge', 'log'],\r\n",
    "    'estimator__penalty' : ['l2', 'l1'],\r\n",
    "    'estimator__alpha' : [1e-3, 1e-4, 1e-5],\r\n",
    "    'estimator__max_iter' : [20, 25, 30],\r\n",
    "    'estimator__class_weight' : ['balanced', None]\r\n",
    "}\r\n",
    "\r\n",
    "\r\n",
    "sgd = SGDClassifier(random_state=42)\r\n",
    "clf = OneVsRestClassifier(sgd)\r\n",
    "sgd_tfidf_gs = GridSearchCV(clf, param_grid = grid, cv = 5)\r\n",
    "sgd_tfidf_gs.fit(X_train, y_train)\r\n",
    "\r\n",
    "print(sgd_tfidf_gs.best_score_)\r\n",
    "model_resultstfidf['SGD'] = sgd_tfidf_gs.best_score_"
   ],
   "outputs": [
    {
     "output_type": "stream",
     "name": "stdout",
     "text": [
      "0.22388164846777037\n"
     ]
    }
   ],
   "metadata": {}
  },
  {
   "cell_type": "code",
   "execution_count": 195,
   "source": [
    "from sklearn.metrics import accuracy_score, classification_report\r\n",
    "print('Test Accuracy score:', accuracy_score(y_test, y_pred_new))\r\n",
    "print(classification_report(y_test, y_pred_new))"
   ],
   "outputs": [
    {
     "output_type": "stream",
     "name": "stdout",
     "text": [
      "Test Accuracy score: 0.19456184840800225\n",
      "              precision    recall  f1-score   support\n",
      "\n",
      "           0       0.58      0.48      0.53       998\n",
      "           1       0.59      0.23      0.33       556\n",
      "           2       0.78      0.27      0.40       355\n",
      "           3       0.56      0.16      0.25       360\n",
      "           4       0.54      0.73      0.62      2121\n",
      "           5       0.51      0.35      0.41       674\n",
      "           6       0.80      0.62      0.70       654\n",
      "           7       0.56      0.89      0.69      3152\n",
      "           8       0.68      0.16      0.25       327\n",
      "           9       0.00      0.00      0.00        46\n",
      "          10       0.72      0.51      0.59       757\n",
      "          11       0.00      0.00      0.00        24\n",
      "          12       0.20      0.01      0.03       136\n",
      "          13       0.47      0.12      0.19       374\n",
      "          14       0.50      0.39      0.44       993\n",
      "          15       0.72      0.37      0.49       459\n",
      "          16       0.51      0.43      0.47      1095\n",
      "          17       0.63      0.37      0.46       255\n",
      "          18       0.92      0.43      0.58       161\n",
      "\n",
      "   micro avg       0.57      0.55      0.56     13497\n",
      "   macro avg       0.54      0.34      0.39     13497\n",
      "weighted avg       0.58      0.55      0.53     13497\n",
      " samples avg       0.59      0.62      0.56     13497\n",
      "\n"
     ]
    }
   ],
   "metadata": {}
  },
  {
   "cell_type": "markdown",
   "source": [
    "# LinearSVC\n",
    "### The objective of a Linear SVC (Support Vector Classifier) is to fit to the data you provide, returning a \"best fit\" hyperplane that divides, or categorizes, your data. From there, after getting the hyperplane, you can then feed some features to your classifier to see what the \"predicted\" class is\n",
    "#### Kernel trick allows the inner product of mapping function instead of the data points,The kernel is a way of computing the dot product of two vectors x and y in some (very high dimensional) feature space."
   ],
   "metadata": {}
  },
  {
   "cell_type": "code",
   "execution_count": 62,
   "source": [
    "# Gridsearch to determine the value of C\r\n",
    "\r\n",
    "clf = OneVsRestClassifier(SVC(kernel='linear', probability=True))\r\n",
    "clf.fit(X_train, y_train)\r\n",
    "y_pred = clf.predict(X_test)\r\n",
    "f1_score(y_test, y_pred, average=\"micro\")\r\n",
    "\r\n",
    "\r\n",
    "\r\n"
   ],
   "outputs": [
    {
     "output_type": "execute_result",
     "data": {
      "text/plain": [
       "0.36005442176870744"
      ]
     },
     "metadata": {},
     "execution_count": 62
    }
   ],
   "metadata": {}
  },
  {
   "cell_type": "code",
   "execution_count": null,
   "source": [
    "tuned_parameters = [\r\n",
    "    { \"estimator__gamma\": [1e-3, 1e-4], \"estimator__C\": [1, 10, 100, 1000]}\r\n",
    "]\r\n",
    "svc = SVC(kernel='linear', probability=True)\r\n",
    "clf = OneVsRestClassifier(svc)\r\n",
    "grid_lsvc = GridSearchCV(clf, param_grid = tuned_parameters, cv = 5)\r\n",
    "grid_lsvc.fit(X_train, y_train)\r\n",
    "\r\n",
    "print(grid_lsvc.best_score_)\r\n"
   ],
   "outputs": [],
   "metadata": {}
  },
  {
   "cell_type": "markdown",
   "source": [
    "# CNN"
   ],
   "metadata": {}
  },
  {
   "cell_type": "markdown",
   "source": [
    "## Convert the string labels to lists of strings as we did above\r\n"
   ],
   "metadata": {}
  },
  {
   "cell_type": "code",
   "execution_count": 10,
   "source": [
    "test_split = 0.1\r\n",
    "\r\n",
    "# Initial train and test split.\r\n",
    "\r\n",
    "train_df, test_df = train_test_split(df, test_size=0.2, random_state=9)\r\n",
    "# Splitting the test set further into validation\r\n",
    "# and new test sets.\r\n",
    "val_df = test_df.sample(frac=0.5)\r\n",
    "test_df.drop(val_df.index, inplace=True)\r\n",
    "\r\n",
    "print(f\"Number of rows in training set: {len(train_df)}\")\r\n",
    "print(f\"Number of rows in validation set: {len(val_df)}\")\r\n",
    "print(f\"Number of rows in test set: {len(test_df)}\")"
   ],
   "outputs": [
    {
     "output_type": "stream",
     "name": "stdout",
     "text": [
      "Number of rows in training set: 28390\n",
      "Number of rows in validation set: 3549\n",
      "Number of rows in test set: 3549\n"
     ]
    }
   ],
   "metadata": {}
  },
  {
   "cell_type": "markdown",
   "source": [
    "## Multi-label binarization\r\n",
    "### Now we preprocess our labels using the StringLookup layer.\r\n",
    "#### A preprocessing layer which maps string features to integer indices.\r\n",
    "##### This layer translates a set of arbitrary strings into integer output via a table-based vocabulary lookup.\r\n",
    "\r\n",
    "\r\n"
   ],
   "metadata": {}
  },
  {
   "cell_type": "code",
   "execution_count": 11,
   "source": [
    "genres = tf.ragged.constant(train_df[\"genres\"].values)\r\n",
    "lookup = tf.keras.layers.StringLookup(output_mode=\"multi_hot\")\r\n",
    "lookup.adapt(genres)\r\n",
    "vocab = lookup.get_vocabulary()\r\n",
    "\r\n",
    "\r\n",
    "def invert_multi_hot(encoded_labels):\r\n",
    "    \"\"\"Reverse a single multi-hot encoded label to a tuple of vocab genres.\"\"\"\r\n",
    "    hot_indices = np.argwhere(encoded_labels == 1.0)[..., 0]\r\n",
    "    return np.take(vocab, hot_indices)\r\n",
    "\r\n",
    "\r\n",
    "print(\"Vocabulary:\\n\")\r\n",
    "print(vocab)\r\n"
   ],
   "outputs": [
    {
     "output_type": "stream",
     "name": "stdout",
     "text": [
      "Vocabulary:\n",
      "\n",
      "['[UNK]', 'Drama', 'Comedy', 'Thriller', 'Romance', 'Action', 'Horror', 'Documentary', 'Crime', 'Adventure', 'Sci-Fi', 'Mystery', 'Children', 'Animation', 'Fantasy', 'War', 'Western', 'Musical', 'Film-Noir', 'IMAX']\n"
     ]
    }
   ],
   "metadata": {}
  },
  {
   "cell_type": "markdown",
   "source": [
    "### Here we are separating the individual unique classes available from the genres and then using this information to represent a given label set with 0's and 1's. Below is an example."
   ],
   "metadata": {}
  },
  {
   "cell_type": "code",
   "execution_count": 12,
   "source": [
    "sample_label = train_df[\"genres\"].iloc[0]\r\n",
    "print(f\"Original label: {sample_label}\")\r\n",
    "\r\n",
    "label_binarized = lookup([sample_label])\r\n",
    "print(f\"Label-binarized representation: {label_binarized}\")"
   ],
   "outputs": [
    {
     "output_type": "stream",
     "name": "stdout",
     "text": [
      "Original label: ['Drama']\n",
      "Label-binarized representation: [[0. 1. 0. 0. 0. 0. 0. 0. 0. 0. 0. 0. 0. 0. 0. 0. 0. 0. 0. 0.]]\n"
     ]
    }
   ],
   "metadata": {}
  },
  {
   "cell_type": "markdown",
   "source": [
    "## We first get percentile estimates of the sequence lengths."
   ],
   "metadata": {}
  },
  {
   "cell_type": "code",
   "execution_count": 13,
   "source": [
    "train_df[\"synopsis\"].apply(lambda x: len(x.split(\" \"))).describe()\r\n"
   ],
   "outputs": [
    {
     "output_type": "execute_result",
     "data": {
      "text/plain": [
       "count    28390.000000\n",
       "mean        53.613772\n",
       "std         33.854674\n",
       "min          1.000000\n",
       "25%         27.000000\n",
       "50%         46.000000\n",
       "75%         71.000000\n",
       "max        188.000000\n",
       "Name: synopsis, dtype: float64"
      ]
     },
     "metadata": {},
     "execution_count": 13
    }
   ],
   "metadata": {}
  },
  {
   "cell_type": "markdown",
   "source": [
    "### Notice that 50% of the abstracts have a length of 26. So, any number close to that value is a good enough approximate for the maximum sequence length.\r\n",
    "\r\n",
    "\r\n",
    "\r\n",
    "### implement utilities to prepare our datasets.\r\n",
    "\r\n"
   ],
   "metadata": {}
  },
  {
   "cell_type": "code",
   "execution_count": 14,
   "source": [
    "max_seqlen = 26\r\n",
    "batch_size = 128\r\n",
    "padding_token = \"<pad>\"\r\n",
    "auto = tf.data.AUTOTUNE\r\n",
    "\r\n",
    "\r\n",
    "def make_dataset(dataframe, is_train=True):\r\n",
    "    labels = tf.ragged.constant(dataframe[\"genres\"].values)\r\n",
    "    label_binarized = lookup(labels).numpy()\r\n",
    "    dataset = tf.data.Dataset.from_tensor_slices(\r\n",
    "        (dataframe[\"synopsis\"].values, label_binarized)\r\n",
    "    )\r\n",
    "    dataset = dataset.shuffle(batch_size * 10) if is_train else dataset\r\n",
    "    return dataset.batch(batch_size)"
   ],
   "outputs": [],
   "metadata": {}
  },
  {
   "cell_type": "code",
   "execution_count": 15,
   "source": [
    "train_dataset = make_dataset(train_df, is_train=True)\r\n",
    "validation_dataset = make_dataset(val_df, is_train=False)\r\n",
    "test_dataset = make_dataset(test_df, is_train=False)"
   ],
   "outputs": [],
   "metadata": {}
  },
  {
   "cell_type": "markdown",
   "source": [
    "## Dataset preview\r\n"
   ],
   "metadata": {}
  },
  {
   "cell_type": "code",
   "execution_count": 16,
   "source": [
    "text_batch, label_batch = next(iter(train_dataset))\r\n",
    "\r\n",
    "for i, text in enumerate(text_batch[:5]):\r\n",
    "    label = label_batch[i].numpy()[None, ...]\r\n",
    "    print(f\"Abstract: {text}\")\r\n",
    "    print(f\"Label(s): {invert_multi_hot(label[0])}\")\r\n",
    "    print(\" \")"
   ],
   "outputs": [
    {
     "output_type": "stream",
     "name": "stdout",
     "text": [
      "Abstract: b\"Steve is a college freshman who plays tennis for the school. But he falls desperately in love with Shelly, also a tennis player. It's all downhill from there. Steve can't eat, he can't sleep, his grades drop, and he gets kicked off the tennis team. What can he do? Well, his resourceful friend suggest turning Steve into a woman in order to get him close to Shelly who doesn't know he is alive.\"\n",
      "Label(s): ['Comedy']\n",
      " \n",
      "Abstract: b\"A woman takes in boarders to support her husband's harebrained financial schemes.\"\n",
      "Label(s): ['Comedy']\n",
      " \n",
      "Abstract: b'Two housewives in America in the 1950s, Mrs Fairytale and her best friend Mrs Emerald, meet every day to share their quiet and bourgeois lives, but the fa\\xc3\\xa7ade of perfection slowly crumbles to reveal terrible secrets.'\n",
      "Label(s): ['Comedy']\n",
      " \n",
      "Abstract: b\"The Hangover crew heads to Thailand for Stu's wedding. After the disaster of a bachelor party in Las Vegas last year, Stu is playing it safe with a mellow pre-wedding brunch. However, nothing goes as planned and Bangkok is the perfect setting for another adventure with the rowdy group.\"\n",
      "Label(s): ['Comedy']\n",
      " \n",
      "Abstract: b'Nadja is a guest student, who stays at Cit\\xc3\\xa9 Universitaire and visits the Sorbonne, while preparing a thesis on Proust; she also likes to stroll about Paris.'\n",
      "Label(s): ['Documentary']\n",
      " \n"
     ]
    }
   ],
   "metadata": {}
  },
  {
   "cell_type": "markdown",
   "source": [
    "### We first calculate the number of unique words present in the abstracts.\r\n",
    "\r\n"
   ],
   "metadata": {}
  },
  {
   "cell_type": "code",
   "execution_count": 17,
   "source": [
    "vocabulary = set()\r\n",
    "train_df[\"synopsis\"].str.lower().str.split().apply(vocabulary.update)\r\n",
    "vocabulary_size = len(vocabulary)\r\n",
    "print(vocabulary_size)"
   ],
   "outputs": [
    {
     "output_type": "stream",
     "name": "stdout",
     "text": [
      "115089\n"
     ]
    }
   ],
   "metadata": {}
  },
  {
   "cell_type": "markdown",
   "source": [
    "### We now create our vectorization layer and map() to the tf.data.Datasets created earlier.\r\n",
    "\r\n"
   ],
   "metadata": {}
  },
  {
   "cell_type": "code",
   "execution_count": 18,
   "source": [
    "text_vectorizer = layers.TextVectorization(\r\n",
    "    max_tokens=vocabulary_size, ngrams=2, output_mode=\"tf_idf\"\r\n",
    ")\r\n",
    "\r\n",
    "# `TextVectorization` layer needs to be adapted as per the vocabulary from our\r\n",
    "# training set.\r\n",
    "with tf.device(\"/CPU:0\"):\r\n",
    "    text_vectorizer.adapt(train_dataset.map(lambda text, label: text))\r\n",
    "\r\n",
    "train_dataset = train_dataset.map(\r\n",
    "    lambda text, label: (text_vectorizer(text), label), num_parallel_calls=auto\r\n",
    ").prefetch(auto)\r\n",
    "validation_dataset = validation_dataset.map(\r\n",
    "    lambda text, label: (text_vectorizer(text), label), num_parallel_calls=auto\r\n",
    ").prefetch(auto)\r\n",
    "test_dataset = test_dataset.map(\r\n",
    "    lambda text, label: (text_vectorizer(text), label), num_parallel_calls=auto\r\n",
    ").prefetch(auto)"
   ],
   "outputs": [],
   "metadata": {}
  },
  {
   "cell_type": "markdown",
   "source": [
    "### Create a text classification model\r\n",
    "### We will keep our model simple -- it will be a small stack of fully-connected layers with ReLU as the non-linearity."
   ],
   "metadata": {}
  },
  {
   "cell_type": "code",
   "execution_count": 19,
   "source": [
    "def make_model():\r\n",
    "    shallow_mlp_model = keras.Sequential(\r\n",
    "        [\r\n",
    "            layers.Dense(512, activation=\"relu\"),\r\n",
    "            layers.Dense(256, activation=\"relu\"),\r\n",
    "            #layers.Embedding(vocabulary_size, 100, input_length=150),\r\n",
    "            #layers.SpatialDropout1D(0.2),\r\n",
    "            #layers.LSTM(200, dropout=0.2, recurrent_dropout=0.2),\r\n",
    "            layers.Dense(lookup.vocabulary_size(), activation=\"sigmoid\"),\r\n",
    "        ]  # More on why \"sigmoid\" has been used here in a moment.\r\n",
    "    )\r\n",
    "    return shallow_mlp_model"
   ],
   "outputs": [],
   "metadata": {}
  },
  {
   "cell_type": "markdown",
   "source": [
    "## Train the model\r\n",
    "### We will train our model using the binary crossentropy loss. This is because the labels are not disjoint. For a given abstract, we may have multiple categories. So, we will divide the prediction task into a series of multiple binary classification problems. This is also why we kept the activation function of the classification layer in our model to sigmoid"
   ],
   "metadata": {}
  },
  {
   "cell_type": "code",
   "execution_count": 20,
   "source": [
    "epochs = 20\r\n",
    "\r\n",
    "shallow_mlp_model = make_model()\r\n",
    "shallow_mlp_model.compile(\r\n",
    "    loss=\"binary_crossentropy\", optimizer=\"adam\", metrics=[\"categorical_accuracy\"]\r\n",
    ")\r\n",
    "\r\n",
    "history = shallow_mlp_model.fit(\r\n",
    "    train_dataset, validation_data=validation_dataset, epochs=epochs\r\n",
    ")\r\n",
    "\r\n",
    "\r\n",
    "def plot_result(item):\r\n",
    "    plt.plot(history.history[item], label=item)\r\n",
    "    plt.plot(history.history[\"val_\" + item], label=\"val_\" + item)\r\n",
    "    plt.xlabel(\"Epochs\")\r\n",
    "    plt.ylabel(item)\r\n",
    "    plt.title(\"Train and Validation {} Over Epochs\".format(item), fontsize=14)\r\n",
    "    plt.legend()\r\n",
    "    plt.grid()\r\n",
    "    plt.show()\r\n",
    "\r\n",
    "\r\n",
    "plot_result(\"loss\")\r\n",
    "plot_result(\"categorical_accuracy\")"
   ],
   "outputs": [
    {
     "output_type": "stream",
     "name": "stdout",
     "text": [
      "Epoch 1/20\n",
      "222/222 [==============================] - 22s 94ms/step - loss: 0.2243 - categorical_accuracy: 0.4954 - val_loss: 0.1878 - val_categorical_accuracy: 0.5272\n",
      "Epoch 2/20\n",
      "222/222 [==============================] - 20s 89ms/step - loss: 0.0474 - categorical_accuracy: 0.6302 - val_loss: 0.2482 - val_categorical_accuracy: 0.5021\n",
      "Epoch 3/20\n",
      "222/222 [==============================] - 20s 88ms/step - loss: 0.0107 - categorical_accuracy: 0.6721 - val_loss: 0.3446 - val_categorical_accuracy: 0.5097\n",
      "Epoch 4/20\n",
      "222/222 [==============================] - 20s 87ms/step - loss: 0.0053 - categorical_accuracy: 0.6955 - val_loss: 0.3967 - val_categorical_accuracy: 0.4821\n",
      "Epoch 5/20\n",
      "222/222 [==============================] - 19s 86ms/step - loss: 0.0037 - categorical_accuracy: 0.7040 - val_loss: 0.4297 - val_categorical_accuracy: 0.4894\n",
      "Epoch 6/20\n",
      "222/222 [==============================] - 19s 86ms/step - loss: 0.0037 - categorical_accuracy: 0.7053 - val_loss: 0.4687 - val_categorical_accuracy: 0.4863\n",
      "Epoch 7/20\n",
      "222/222 [==============================] - 20s 87ms/step - loss: 0.0033 - categorical_accuracy: 0.7078 - val_loss: 0.4910 - val_categorical_accuracy: 0.4593\n",
      "Epoch 8/20\n",
      "222/222 [==============================] - 19s 86ms/step - loss: 0.0047 - categorical_accuracy: 0.6958 - val_loss: 0.4984 - val_categorical_accuracy: 0.4598\n",
      "Epoch 9/20\n",
      "222/222 [==============================] - 20s 87ms/step - loss: 0.0074 - categorical_accuracy: 0.6981 - val_loss: 0.4932 - val_categorical_accuracy: 0.4517\n",
      "Epoch 10/20\n",
      "222/222 [==============================] - 19s 86ms/step - loss: 0.0096 - categorical_accuracy: 0.6905 - val_loss: 0.5345 - val_categorical_accuracy: 0.4432\n",
      "Epoch 11/20\n",
      "222/222 [==============================] - 20s 87ms/step - loss: 0.0099 - categorical_accuracy: 0.6796 - val_loss: 0.5352 - val_categorical_accuracy: 0.4489\n",
      "Epoch 12/20\n",
      "222/222 [==============================] - 20s 88ms/step - loss: 0.0083 - categorical_accuracy: 0.6734 - val_loss: 0.5645 - val_categorical_accuracy: 0.4652\n",
      "Epoch 13/20\n",
      "222/222 [==============================] - 20s 90ms/step - loss: 0.0057 - categorical_accuracy: 0.6733 - val_loss: 0.6171 - val_categorical_accuracy: 0.4548\n",
      "Epoch 14/20\n",
      "222/222 [==============================] - 19s 86ms/step - loss: 0.0035 - categorical_accuracy: 0.6603 - val_loss: 0.6493 - val_categorical_accuracy: 0.4387\n",
      "Epoch 15/20\n",
      "222/222 [==============================] - 20s 86ms/step - loss: 0.0028 - categorical_accuracy: 0.6672 - val_loss: 0.6682 - val_categorical_accuracy: 0.4649\n",
      "Epoch 16/20\n",
      "222/222 [==============================] - 20s 87ms/step - loss: 0.0023 - categorical_accuracy: 0.6677 - val_loss: 0.7005 - val_categorical_accuracy: 0.4846\n",
      "Epoch 17/20\n",
      "222/222 [==============================] - 20s 88ms/step - loss: 0.0021 - categorical_accuracy: 0.6649 - val_loss: 0.6840 - val_categorical_accuracy: 0.4627\n",
      "Epoch 18/20\n",
      "222/222 [==============================] - 20s 87ms/step - loss: 0.0025 - categorical_accuracy: 0.6690 - val_loss: 0.7038 - val_categorical_accuracy: 0.4562\n",
      "Epoch 19/20\n",
      "222/222 [==============================] - 20s 87ms/step - loss: 0.0023 - categorical_accuracy: 0.6572 - val_loss: 0.7108 - val_categorical_accuracy: 0.4427\n",
      "Epoch 20/20\n",
      "222/222 [==============================] - 20s 87ms/step - loss: 0.0027 - categorical_accuracy: 0.6636 - val_loss: 0.7195 - val_categorical_accuracy: 0.4621\n"
     ]
    },
    {
     "output_type": "display_data",
     "data": {
      "image/png": "[encoded data removed]",
      "text/plain": [
       "<Figure size 432x288 with 1 Axes>"
      ]
     },
     "metadata": {
      "needs_background": "light"
     }
    },
    {
     "output_type": "display_data",
     "data": {
      "image/png": "[encoded data removed]",
      "text/plain": [
       "<Figure size 432x288 with 1 Axes>"
      ]
     },
     "metadata": {
      "needs_background": "light"
     }
    }
   ],
   "metadata": {}
  },
  {
   "cell_type": "markdown",
   "source": [
    "### While training, we notice an initial sharp fall in the loss followed by a gradual decay.\r\n",
    "#### we can use different kind of feature extraction method such as ELMo, which I tried but did not have enough hardware. \r\n"
   ],
   "metadata": {}
  },
  {
   "cell_type": "code",
   "execution_count": 21,
   "source": [
    "_, categorical_acc = shallow_mlp_model.evaluate(test_dataset)\r\n",
    "print(f\"Categorical accuracy on the test set: {round(categorical_acc * 100, 2)}%.\")\r\n"
   ],
   "outputs": [
    {
     "output_type": "stream",
     "name": "stdout",
     "text": [
      "28/28 [==============================] - 1s 24ms/step - loss: 0.7546 - categorical_accuracy: 0.4494\n",
      "Categorical accuracy on the test set: 44.94%.\n"
     ]
    }
   ],
   "metadata": {}
  },
  {
   "cell_type": "markdown",
   "source": [
    "## Inference\r\n",
    "### An important feature of the preprocessing layers provided by Keras is that they can be included inside a tf.keras.Model. We will export an inference model by including the text_vectorization layer on top of shallow_mlp_model. This will allow our inference model to directly operate on raw strings."
   ],
   "metadata": {}
  },
  {
   "cell_type": "code",
   "execution_count": 41,
   "source": [
    "# Create a model for inference.\r\n",
    "model_for_inference = keras.Sequential([text_vectorizer, shallow_mlp_model])\r\n",
    "\r\n",
    "# Create a small dataset just for demoing inference.\r\n",
    "inference_dataset = make_dataset(test_df.sample(100), is_train=False)\r\n",
    "text_batch, label_batch = next(iter(inference_dataset))\r\n",
    "predicted_probabilities = model_for_inference.predict(text_batch)\r\n",
    "\r\n",
    "# Perform inference.\r\n",
    "for i, text in enumerate(text_batch[:5]):\r\n",
    "    label = label_batch[i].numpy()[None, ...]\r\n",
    "    print(f\"Abstract: {text}\")\r\n",
    "    print(f\"Label(s): {invert_multi_hot(label[0])}\")\r\n",
    "    predicted_proba = [proba for proba in predicted_probabilities[i]]\r\n",
    "    top_3_labels = [\r\n",
    "        x\r\n",
    "        for _, x in sorted(\r\n",
    "            zip(predicted_probabilities[i], lookup.get_vocabulary()),\r\n",
    "            key=lambda pair: pair[0],\r\n",
    "            reverse=True,\r\n",
    "        )\r\n",
    "    ][:3]\r\n",
    "    print(f\"Predicted Label(s): ({', '.join([label for label in top_3_labels])})\")\r\n",
    "    print(\" \")"
   ],
   "outputs": [
    {
     "output_type": "stream",
     "name": "stdout",
     "text": [
      "Abstract: b'man monotonous job punching tickets japanese railway night walking home saves jun getting raped hoodlums days later sneaks house gets discovered later watches son subdue insect chemical man gets idea subdue women sleeping wo discovered sneaking home new hobby spirals control confidence grows'\n",
      "Label(s): ['Drama' 'Crime']\n",
      "Predicted Label(s): (Thriller, Drama, Romance)\n",
      " \n",
      "Abstract: b'sarah barcant lawyer new york city grew south africa returns childhood dwelling place intercede alex mpondo black south african politician tortured apartheid'\n",
      "Label(s): ['Drama']\n",
      "Predicted Label(s): (Drama, Thriller, Children)\n",
      " \n",
      "Abstract: b'city life death takes place height second sino japanese war imperial japanese army captured capital republic china nanjing followed known nanking massacre rape nanking period several weeks wherein tens thousands chinese soldiers civilians killed'\n",
      "Label(s): ['Drama' 'War']\n",
      "Predicted Label(s): (Drama, War, Documentary)\n",
      " \n",
      "Abstract: b'wrongly time prison murder man seeks revenge racist law enforcement system detective framed'\n",
      "Label(s): ['Thriller' 'Action']\n",
      "Predicted Label(s): (Crime, Action, Drama)\n",
      " \n",
      "Abstract: b'celebration trans community puerto rico fissure internal external ever present battle unique exploration self discovery activism featuring diverse collection subjects include lgbtq advocates business owners sex workers boisterous group drag performers call doll house mala mala portrays fight personal community acceptance paved triumphant highs devastating lows'\n",
      "Label(s): ['Drama' 'Documentary']\n",
      "Predicted Label(s): (Documentary, IMAX, Sci-Fi)\n",
      " \n"
     ]
    }
   ],
   "metadata": {}
  },
  {
   "cell_type": "code",
   "execution_count": null,
   "source": [],
   "outputs": [],
   "metadata": {}
  }
 ],
 "metadata": {
  "interpreter": {
   "hash": "ad4a7f633457edeca986db117c49439398b3575b7cfc8b89bb9541a12d05f016"
  },
  "kernelspec": {
   "display_name": "Python 3",
   "language": "python",
   "name": "python3"
  },
  "language_info": {
   "codemirror_mode": {
    "name": "ipython",
    "version": 3
   },
   "file_extension": ".py",
   "mimetype": "text/x-python",
   "name": "python",
   "nbconvert_exporter": "python",
   "pygments_lexer": "ipython3",
   "version": "3.7.9"
  }
 },
 "nbformat": 4,
 "nbformat_minor": 4
}