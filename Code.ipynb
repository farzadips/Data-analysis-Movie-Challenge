{
 "cells": [
  {
   "cell_type": "code",
   "execution_count": 1,
   "source": [
    "import pandas as pd\r\n",
    "import numpy as np\r\n",
    "import json\r\n",
    "import string\r\n",
    "import matplotlib.pyplot as plt \r\n",
    "import seaborn as sns\r\n",
    "from tqdm import tqdm\r\n",
    "from sklearn.feature_extraction.text import TfidfVectorizer\r\n",
    "from sklearn.model_selection import train_test_split\r\n",
    "import nltk\r\n",
    "from sklearn.metrics import roc_auc_score, roc_curve, precision_recall_curve, confusion_matrix\r\n",
    "import operator\r\n",
    "from sklearn.svm import LinearSVC\r\n",
    "from sklearn.pipeline import Pipeline\r\n",
    "from sklearn.svm import LinearSVC\r\n",
    "from sklearn.svm import SVC\r\n",
    "from ast import literal_eval\r\n",
    "\r\n",
    "from sklearn.model_selection import GridSearchCV\r\n",
    "from sklearn.preprocessing import StandardScaler\r\n",
    "import warnings\r\n",
    "from sklearn.tree import DecisionTreeClassifier\r\n",
    "from sklearn.linear_model import SGDClassifier\r\n",
    "\r\n",
    "warnings.filterwarnings('ignore')\r\n",
    "\r\n",
    "from sklearn.linear_model import LogisticRegression\r\n",
    "from sklearn.multiclass import OneVsRestClassifier\r\n",
    "from sklearn.metrics import f1_score\r\n",
    "from nltk import word_tokenize, FreqDist\r\n",
    "from nltk.corpus import stopwords\r\n",
    "from sklearn.naive_bayes import MultinomialNB\r\n",
    "from sklearn.model_selection import train_test_split, GridSearchCV\r\n",
    "import tensorflow as tf\r\n",
    "from tensorflow import keras\r\n",
    "from tensorflow.keras import layers\r\n",
    "import re\r\n",
    "from tensorflow.keras.layers import Flatten, Dense, Dropout, BatchNormalization, Conv2D, MaxPool2D\r\n"
   ],
   "outputs": [
    {
     "output_type": "stream",
     "name": "stderr",
     "text": [
      "\n",
      "Bad key \"text.kerning_factor\" on line 4 in\n",
      "/opt/anaconda3/envs/bigdatalab_cpu_202101/lib/python3.7/site-packages/matplotlib/mpl-data/stylelib/_classic_test_patch.mplstyle.\n",
      "You probably need to get an updated matplotlibrc file from\n",
      "https://github.com/matplotlib/matplotlib/blob/v3.1.2/matplotlibrc.template\n",
      "or from the matplotlib source distribution\n"
     ]
    }
   ],
   "metadata": {}
  },
  {
   "cell_type": "code",
   "execution_count": 2,
   "source": [
    "df = pd.read_csv(\"movies.csv\")\r\n",
    "df.head()"
   ],
   "outputs": [
    {
     "output_type": "execute_result",
     "data": {
      "text/html": [
       "<div>\n",
       "<style scoped>\n",
       "    .dataframe tbody tr th:only-of-type {\n",
       "        vertical-align: middle;\n",
       "    }\n",
       "\n",
       "    .dataframe tbody tr th {\n",
       "        vertical-align: top;\n",
       "    }\n",
       "\n",
       "    .dataframe thead th {\n",
       "        text-align: right;\n",
       "    }\n",
       "</style>\n",
       "<table border=\"1\" class=\"dataframe\">\n",
       "  <thead>\n",
       "    <tr style=\"text-align: right;\">\n",
       "      <th></th>\n",
       "      <th>movie_id</th>\n",
       "      <th>year</th>\n",
       "      <th>synopsis</th>\n",
       "      <th>genres</th>\n",
       "    </tr>\n",
       "  </thead>\n",
       "  <tbody>\n",
       "    <tr>\n",
       "      <th>0</th>\n",
       "      <td>30924</td>\n",
       "      <td>2005</td>\n",
       "      <td>Cruel But Necessary is the story of Betty Muns...</td>\n",
       "      <td>Drama</td>\n",
       "    </tr>\n",
       "    <tr>\n",
       "      <th>1</th>\n",
       "      <td>34841</td>\n",
       "      <td>2012</td>\n",
       "      <td>Yorkshire, 1974, the Maynard family moves into...</td>\n",
       "      <td>Drama Horror Thriller</td>\n",
       "    </tr>\n",
       "    <tr>\n",
       "      <th>2</th>\n",
       "      <td>23408</td>\n",
       "      <td>2017</td>\n",
       "      <td>When a renowned architecture scholar falls sud...</td>\n",
       "      <td>Drama</td>\n",
       "    </tr>\n",
       "    <tr>\n",
       "      <th>3</th>\n",
       "      <td>39470</td>\n",
       "      <td>1996</td>\n",
       "      <td>The story dealt with Lord Rama and his retalia...</td>\n",
       "      <td>Children Drama</td>\n",
       "    </tr>\n",
       "    <tr>\n",
       "      <th>4</th>\n",
       "      <td>7108</td>\n",
       "      <td>2003</td>\n",
       "      <td>A Thai playboy cons a girl into bed and then l...</td>\n",
       "      <td>Comedy Drama Horror Thriller</td>\n",
       "    </tr>\n",
       "  </tbody>\n",
       "</table>\n",
       "</div>"
      ],
      "text/plain": [
       "   movie_id  year                                           synopsis  \\\n",
       "0     30924  2005  Cruel But Necessary is the story of Betty Muns...   \n",
       "1     34841  2012  Yorkshire, 1974, the Maynard family moves into...   \n",
       "2     23408  2017  When a renowned architecture scholar falls sud...   \n",
       "3     39470  1996  The story dealt with Lord Rama and his retalia...   \n",
       "4      7108  2003  A Thai playboy cons a girl into bed and then l...   \n",
       "\n",
       "                         genres  \n",
       "0                         Drama  \n",
       "1         Drama Horror Thriller  \n",
       "2                         Drama  \n",
       "3                Children Drama  \n",
       "4  Comedy Drama Horror Thriller  "
      ]
     },
     "metadata": {},
     "execution_count": 2
    }
   ],
   "metadata": {}
  },
  {
   "cell_type": "code",
   "execution_count": 3,
   "source": [
    "\r\n",
    "df.info()"
   ],
   "outputs": [
    {
     "output_type": "stream",
     "name": "stdout",
     "text": [
      "<class 'pandas.core.frame.DataFrame'>\n",
      "RangeIndex: 35488 entries, 0 to 35487\n",
      "Data columns (total 4 columns):\n",
      " #   Column    Non-Null Count  Dtype \n",
      "---  ------    --------------  ----- \n",
      " 0   movie_id  35488 non-null  int64 \n",
      " 1   year      35488 non-null  int64 \n",
      " 2   synopsis  35488 non-null  object\n",
      " 3   genres    35488 non-null  object\n",
      "dtypes: int64(2), object(2)\n",
      "memory usage: 1.1+ MB\n"
     ]
    }
   ],
   "metadata": {}
  },
  {
   "cell_type": "code",
   "execution_count": 4,
   "source": [
    "df = df[~(df['genres'].str.len() == 0)]"
   ],
   "outputs": [],
   "metadata": {}
  },
  {
   "cell_type": "code",
   "execution_count": 5,
   "source": [
    "genres = [] \r\n",
    "\r\n",
    "for i in df['genres']: \r\n",
    "  genres.append((i.split(' '))) \r\n",
    "\r\n",
    "df['genres'] = genres"
   ],
   "outputs": [],
   "metadata": {}
  },
  {
   "cell_type": "code",
   "execution_count": 6,
   "source": [
    "df['genres'].values[:5]\r\n"
   ],
   "outputs": [
    {
     "output_type": "execute_result",
     "data": {
      "text/plain": [
       "array([list(['Drama']), list(['Drama', 'Horror', 'Thriller']),\n",
       "       list(['Drama']), list(['Children', 'Drama']),\n",
       "       list(['Comedy', 'Drama', 'Horror', 'Thriller'])], dtype=object)"
      ]
     },
     "metadata": {},
     "execution_count": 6
    }
   ],
   "metadata": {}
  },
  {
   "cell_type": "code",
   "execution_count": 7,
   "source": [
    "all_genres = sum(genres,[])\r\n",
    "len(set(all_genres))"
   ],
   "outputs": [
    {
     "output_type": "execute_result",
     "data": {
      "text/plain": [
       "19"
      ]
     },
     "metadata": {},
     "execution_count": 7
    }
   ],
   "metadata": {}
  },
  {
   "cell_type": "code",
   "execution_count": 7,
   "source": [
    "all_genres = nltk.FreqDist(all_genres) \r\n",
    "all_genres_df = pd.DataFrame({'Genre': list(all_genres.keys()), \r\n",
    "                              'Count': list(all_genres.values())})"
   ],
   "outputs": [],
   "metadata": {}
  },
  {
   "cell_type": "code",
   "execution_count": 8,
   "source": [
    "g = all_genres_df.nlargest(columns=\"Count\", n = 50) \r\n",
    "plt.figure(figsize=(12,15)) \r\n",
    "ax = sns.barplot(data=g, x= \"Count\", y = \"Genre\") \r\n",
    "ax.set(ylabel = 'Count') \r\n",
    "plt.show()"
   ],
   "outputs": [
    {
     "output_type": "display_data",
     "data": {
      "image/png": "[encoded data removed]",
      "text/plain": [
       "<Figure size 864x1080 with 1 Axes>"
      ]
     },
     "metadata": {
      "needs_background": "light"
     }
    }
   ],
   "metadata": {}
  },
  {
   "cell_type": "code",
   "execution_count": 7,
   "source": [
    "stopwords_list = stopwords.words('english')\r\n",
    "stopwords_list += list(string.punctuation)\r\n",
    "stopwords_list += ['one', 'two', 'go','goes', 'get', 'also', 'however', 'tells'] \r\n",
    "stopwords_list += [0, 1, 2, 3, 4, 5, 6, 7, 8, 9]\r\n",
    "def clean_text(text):\r\n",
    "    text = text.lower()\r\n",
    "    text = re.sub(r\"what's\", \"what is \", text)\r\n",
    "    text = re.sub(r\"\\'s\", \" \", text)\r\n",
    "    text = re.sub(r\"\\'ve\", \" have \", text)\r\n",
    "    text = re.sub(r\"can't\", \"can not \", text)\r\n",
    "    text = re.sub(r\"n't\", \" not \", text)\r\n",
    "    text = re.sub(r\"\\'re\", \" are \", text)\r\n",
    "    text = re.sub(r\"\\'d\", \" would \", text)\r\n",
    "    text = re.sub(r\"\\'ll\", \" will \", text)\r\n",
    "    text = re.sub(r\"\\'scuse\", \" excuse \", text)\r\n",
    "    text = re.sub('\\W', ' ', text)\r\n",
    "    text = re.sub('\\s+', ' ', text)\r\n",
    "    text = re.sub('\\d+', ' ', text)\r\n",
    "    text = text.strip(' ')\r\n",
    "    text = word_tokenize(text)\r\n",
    "    text = [w for w in text if w not in stopwords_list]\r\n",
    "    text = ' '.join(text)\r\n",
    "    return text"
   ],
   "outputs": [],
   "metadata": {}
  },
  {
   "cell_type": "code",
   "execution_count": 8,
   "source": [
    "df['synopsis'] = df['synopsis'].map(lambda x : clean_text(x))\r\n"
   ],
   "outputs": [],
   "metadata": {}
  },
  {
   "cell_type": "code",
   "execution_count": 11,
   "source": [
    "df['synopsis']"
   ],
   "outputs": [
    {
     "output_type": "execute_result",
     "data": {
      "text/plain": [
       "0        cruel necessary story betty munson strange jou...\n",
       "1        yorkshire maynard family moves dream house dre...\n",
       "2        renowned architecture scholar falls suddenly i...\n",
       "3        story dealt lord rama retaliation ravana chara...\n",
       "4        thai playboy cons girl bed leaves finding preg...\n",
       "                               ...                        \n",
       "35483    prequel mou gaan dou chan wing yan become unde...\n",
       "35484    ann husband george son georgie arrive holiday ...\n",
       "35485    former sports star fallen hard times starts co...\n",
       "35486    hard hitting western drama starring mitchum or...\n",
       "35487    abner peacock knotts beloved bird watcher maga...\n",
       "Name: synopsis, Length: 35488, dtype: object"
      ]
     },
     "metadata": {},
     "execution_count": 11
    }
   ],
   "metadata": {}
  },
  {
   "cell_type": "code",
   "execution_count": 12,
   "source": [
    "df = df.drop(columns=['year'])"
   ],
   "outputs": [],
   "metadata": {}
  },
  {
   "cell_type": "code",
   "execution_count": 23,
   "source": [
    "from sklearn.preprocessing import MultiLabelBinarizer\r\n",
    "\r\n",
    "multilabel_binarizer = MultiLabelBinarizer()\r\n",
    "multilabel_binarizer.fit(df['genres'])\r\n",
    "y = multilabel_binarizer.transform(df['genres'])\r\n",
    "df['genres']"
   ],
   "outputs": [
    {
     "output_type": "execute_result",
     "data": {
      "text/plain": [
       "0                                  [Drama]\n",
       "1                [Drama, Horror, Thriller]\n",
       "2                                  [Drama]\n",
       "3                        [Children, Drama]\n",
       "4        [Comedy, Drama, Horror, Thriller]\n",
       "                       ...                \n",
       "35483     [Action, Crime, Drama, Thriller]\n",
       "35484                    [Drama, Thriller]\n",
       "35485                    [Comedy, Romance]\n",
       "35486                  [Thriller, Western]\n",
       "35487                             [Comedy]\n",
       "Name: genres, Length: 35488, dtype: object"
      ]
     },
     "metadata": {},
     "execution_count": 23
    }
   ],
   "metadata": {}
  },
  {
   "cell_type": "code",
   "execution_count": 14,
   "source": [
    "X_train, X_test, y_train, y_test = train_test_split(df['synopsis'], y, test_size=0.2, random_state=9)"
   ],
   "outputs": [],
   "metadata": {}
  },
  {
   "cell_type": "code",
   "execution_count": 181,
   "source": [
    "from sklearn.dummy import DummyClassifier\r\n",
    "dummy_grid = {\r\n",
    "    'estimator__strategy': ['most_frequent', 'stratified', 'prior', 'uniform', 'constant']\r\n",
    "}\r\n",
    "dummy = DummyClassifier( random_state = 42)\r\n",
    "clf = OneVsRestClassifier(dummy)\r\n",
    "dummy_gs = GridSearchCV(clf, param_grid = dummy_grid, cv = 5)\r\n",
    "dummy_gs.fit(X_train, y_train)\r\n",
    "print(dummy_gs.best_score_)"
   ],
   "outputs": [
    {
     "output_type": "stream",
     "name": "stdout",
     "text": [
      "0.03039802747446284\n"
     ]
    }
   ],
   "metadata": {}
  },
  {
   "cell_type": "code",
   "execution_count": 15,
   "source": [
    "vectorizer = TfidfVectorizer(max_df=0.8 , lowercase=False,max_features=10000)\r\n",
    "X_train = vectorizer.fit_transform(X_train)\r\n",
    "\r\n"
   ],
   "outputs": [],
   "metadata": {}
  },
  {
   "cell_type": "code",
   "execution_count": 16,
   "source": [
    "df1 = pd.DataFrame(X_train[0].T.todense(), index=vectorizer.get_feature_names(), columns=[\"TF-IDF\"])\r\n",
    "df1 = df1.sort_values('TF-IDF', ascending=False)\r\n",
    "print (df1.head(25))"
   ],
   "outputs": [
    {
     "output_type": "stream",
     "name": "stdout",
     "text": [
      "                TF-IDF\n",
      "elisabeth     0.596736\n",
      "hamburg       0.293743\n",
      "happy         0.199664\n",
      "dies          0.193637\n",
      "long          0.155627\n",
      "confusing     0.145822\n",
      "disappointed  0.143896\n",
      "budding       0.135986\n",
      "confesses     0.133316\n",
      "affections    0.132828\n",
      "inherits      0.127490\n",
      "time          0.125359\n",
      "studies       0.122865\n",
      "eric          0.121313\n",
      "loyal         0.121313\n",
      "stays         0.120586\n",
      "love          0.116021\n",
      "spent         0.113020\n",
      "musician      0.109310\n",
      "visits        0.108347\n",
      "ready         0.108231\n",
      "farm          0.104390\n",
      "meeting       0.103307\n",
      "asks          0.101093\n",
      "although      0.100638\n"
     ]
    }
   ],
   "metadata": {}
  },
  {
   "cell_type": "code",
   "execution_count": 17,
   "source": [
    "X_test = vectorizer.transform(X_test)\r\n"
   ],
   "outputs": [],
   "metadata": {}
  },
  {
   "cell_type": "code",
   "execution_count": 185,
   "source": [
    "model_resultstfidf = {}\r\n",
    "mnb_grid = {\r\n",
    "    'estimator__alpha': [0, 0.2, 0.5, 0.8, 1.0],\r\n",
    "    'estimator__fit_prior' : [True, False],\r\n",
    " 'estimator__class_prior' : [None, [.4, .3, 0.08, .07, .06, .06], [.167, .167, .167, .167, .167, .167]]\r\n",
    "}\r\n",
    "\r\n",
    "\r\n",
    "mnb = MultinomialNB()\r\n",
    "clf = OneVsRestClassifier(mnb)\r\n",
    "mnb_grid = GridSearchCV(clf, param_grid = mnb_grid, cv = 5)\r\n",
    "mnb_grid.fit(X_train, y_train)\r\n",
    "print(mnb_grid.best_score_)\r\n",
    "\r\n",
    "model_resultstfidf['Multinomial Bayes'] = mnb_grid.best_score_"
   ],
   "outputs": [
    {
     "output_type": "stream",
     "name": "stdout",
     "text": [
      "0.20517787953504754\n"
     ]
    }
   ],
   "metadata": {}
  },
  {
   "cell_type": "markdown",
   "source": [
    "# LogisticRegression"
   ],
   "metadata": {}
  },
  {
   "cell_type": "code",
   "execution_count": 186,
   "source": [
    "lr_grid = {\r\n",
    "    'estimator__penalty' : ['l1', 'l2'],\r\n",
    "    'estimator__C' : [ 1e4, 1e10],\r\n",
    "    'estimator__class_weight' : ['balanced', None],\r\n",
    "    'estimator__solver' : ['lbfgs', 'liblinear'],\r\n",
    "    'estimator__multi_class' : ['ovr', 'multinomial']\r\n",
    "}\r\n",
    "\r\n",
    "lr = LogisticRegression()\r\n",
    "clf = OneVsRestClassifier(lr)\r\n",
    "logreg_tfidf_gs = GridSearchCV(clf, param_grid = lr_grid, cv = 5)\r\n",
    "logreg_tfidf_gs.fit(X_train, y_train)\r\n",
    "print(logreg_tfidf_gs.best_score_)\r\n",
    "model_resultstfidf['Logistic Regression'] = logreg_tfidf_gs.best_score_"
   ],
   "outputs": [
    {
     "output_type": "stream",
     "name": "stdout",
     "text": [
      "0.1477632969355407\n"
     ]
    }
   ],
   "metadata": {}
  },
  {
   "cell_type": "code",
   "execution_count": 187,
   "source": [
    "y_pred = logreg_tfidf_gs.predict(X_test)\r\n"
   ],
   "outputs": [],
   "metadata": {}
  },
  {
   "cell_type": "code",
   "execution_count": 188,
   "source": [
    "f1_score(y_test, y_pred, average=\"micro\")\r\n"
   ],
   "outputs": [
    {
     "output_type": "execute_result",
     "data": {
      "text/plain": [
       "0.4744228157537347"
      ]
     },
     "metadata": {},
     "execution_count": 188
    }
   ],
   "metadata": {}
  },
  {
   "cell_type": "code",
   "execution_count": 189,
   "source": [
    "ths = np.arange(.15,.3,.001)\r\n",
    "dicth={}\r\n",
    "for t in ths:\r\n",
    "    y_pred_new = (y_pred_prob >= t).astype(int)\r\n",
    "    dicth[t] = (f1_score(y_test, y_pred_new, average=\"micro\"))\r\n"
   ],
   "outputs": [],
   "metadata": {}
  },
  {
   "cell_type": "code",
   "execution_count": 190,
   "source": [
    "max(dicth.items(), key=operator.itemgetter(1))\r\n"
   ],
   "outputs": [
    {
     "output_type": "execute_result",
     "data": {
      "text/plain": [
       "(0.22500000000000006, 0.5720626631853786)"
      ]
     },
     "metadata": {},
     "execution_count": 190
    }
   ],
   "metadata": {}
  },
  {
   "cell_type": "code",
   "execution_count": 191,
   "source": [
    "from sklearn.metrics import accuracy_score, classification_report\r\n",
    "print('Test Accuracy score:', accuracy_score(y_test, y_pred_new))\r\n",
    "print(classification_report(y_test, y_pred_new))"
   ],
   "outputs": [
    {
     "output_type": "stream",
     "name": "stdout",
     "text": [
      "Test Accuracy score: 0.19456184840800225\n",
      "              precision    recall  f1-score   support\n",
      "\n",
      "           0       0.58      0.48      0.53       998\n",
      "           1       0.59      0.23      0.33       556\n",
      "           2       0.78      0.27      0.40       355\n",
      "           3       0.56      0.16      0.25       360\n",
      "           4       0.54      0.73      0.62      2121\n",
      "           5       0.51      0.35      0.41       674\n",
      "           6       0.80      0.62      0.70       654\n",
      "           7       0.56      0.89      0.69      3152\n",
      "           8       0.68      0.16      0.25       327\n",
      "           9       0.00      0.00      0.00        46\n",
      "          10       0.72      0.51      0.59       757\n",
      "          11       0.00      0.00      0.00        24\n",
      "          12       0.20      0.01      0.03       136\n",
      "          13       0.47      0.12      0.19       374\n",
      "          14       0.50      0.39      0.44       993\n",
      "          15       0.72      0.37      0.49       459\n",
      "          16       0.51      0.43      0.47      1095\n",
      "          17       0.63      0.37      0.46       255\n",
      "          18       0.92      0.43      0.58       161\n",
      "\n",
      "   micro avg       0.57      0.55      0.56     13497\n",
      "   macro avg       0.54      0.34      0.39     13497\n",
      "weighted avg       0.58      0.55      0.53     13497\n",
      " samples avg       0.59      0.62      0.56     13497\n",
      "\n"
     ]
    }
   ],
   "metadata": {}
  },
  {
   "cell_type": "markdown",
   "source": [
    "# Decision Tree"
   ],
   "metadata": {}
  },
  {
   "cell_type": "code",
   "execution_count": 192,
   "source": [
    "grid = {\r\n",
    "    'estimator__criterion': ['gini', 'entropy'],\r\n",
    "    'estimator__max_depth': [1, 2, 5, 10],\r\n",
    "    'estimator__min_samples_split': [1, 5, 10, 20]\r\n",
    "}\r\n",
    "\r\n",
    "\r\n",
    "\r\n",
    "dt_clf = DecisionTreeClassifier (random_state = 42)\r\n",
    "clf = OneVsRestClassifier(dt_clf)\r\n",
    "gs_tfidf_tree = GridSearchCV(clf, param_grid = grid, cv = 5)\r\n",
    "gs_tfidf_tree.fit(X_train, y_train)\r\n",
    "\r\n",
    "print(gs_tfidf_tree.best_score_)\r\n",
    "model_resultstfidf['Decision Tree'] = gs_tfidf_tree.best_score_"
   ],
   "outputs": [
    {
     "output_type": "stream",
     "name": "stdout",
     "text": [
      "0.13082071151814018\n"
     ]
    }
   ],
   "metadata": {}
  },
  {
   "cell_type": "markdown",
   "source": [
    "# SGD"
   ],
   "metadata": {}
  },
  {
   "cell_type": "code",
   "execution_count": 194,
   "source": [
    "grid = {\r\n",
    "    'estimator__loss' : ['hinge', 'log'],\r\n",
    "    'estimator__penalty' : ['l2', 'l1'],\r\n",
    "    'estimator__alpha' : [1e-3, 1e-4, 1e-5],\r\n",
    "    'estimator__max_iter' : [20, 25, 30],\r\n",
    "    'estimator__class_weight' : ['balanced', None]\r\n",
    "}\r\n",
    "\r\n",
    "\r\n",
    "sgd = SGDClassifier(random_state=42)\r\n",
    "clf = OneVsRestClassifier(sgd)\r\n",
    "sgd_tfidf_gs = GridSearchCV(clf, param_grid = grid, cv = 5)\r\n",
    "sgd_tfidf_gs.fit(X_train, y_train)\r\n",
    "\r\n",
    "print(sgd_tfidf_gs.best_score_)\r\n",
    "model_resultstfidf['SGD'] = sgd_tfidf_gs.best_score_"
   ],
   "outputs": [
    {
     "output_type": "stream",
     "name": "stdout",
     "text": [
      "0.22388164846777037\n"
     ]
    }
   ],
   "metadata": {}
  },
  {
   "cell_type": "code",
   "execution_count": 195,
   "source": [
    "from sklearn.metrics import accuracy_score, classification_report\r\n",
    "print('Test Accuracy score:', accuracy_score(y_test, y_pred_new))\r\n",
    "print(classification_report(y_test, y_pred_new))"
   ],
   "outputs": [
    {
     "output_type": "stream",
     "name": "stdout",
     "text": [
      "Test Accuracy score: 0.19456184840800225\n",
      "              precision    recall  f1-score   support\n",
      "\n",
      "           0       0.58      0.48      0.53       998\n",
      "           1       0.59      0.23      0.33       556\n",
      "           2       0.78      0.27      0.40       355\n",
      "           3       0.56      0.16      0.25       360\n",
      "           4       0.54      0.73      0.62      2121\n",
      "           5       0.51      0.35      0.41       674\n",
      "           6       0.80      0.62      0.70       654\n",
      "           7       0.56      0.89      0.69      3152\n",
      "           8       0.68      0.16      0.25       327\n",
      "           9       0.00      0.00      0.00        46\n",
      "          10       0.72      0.51      0.59       757\n",
      "          11       0.00      0.00      0.00        24\n",
      "          12       0.20      0.01      0.03       136\n",
      "          13       0.47      0.12      0.19       374\n",
      "          14       0.50      0.39      0.44       993\n",
      "          15       0.72      0.37      0.49       459\n",
      "          16       0.51      0.43      0.47      1095\n",
      "          17       0.63      0.37      0.46       255\n",
      "          18       0.92      0.43      0.58       161\n",
      "\n",
      "   micro avg       0.57      0.55      0.56     13497\n",
      "   macro avg       0.54      0.34      0.39     13497\n",
      "weighted avg       0.58      0.55      0.53     13497\n",
      " samples avg       0.59      0.62      0.56     13497\n",
      "\n"
     ]
    }
   ],
   "metadata": {}
  },
  {
   "cell_type": "markdown",
   "source": [
    "# LinearSVC"
   ],
   "metadata": {}
  },
  {
   "cell_type": "code",
   "execution_count": 206,
   "source": [
    "SVCpipe = Pipeline([('scale', StandardScaler()),\r\n",
    "                   ('SVC',LinearSVC(C=1))])"
   ],
   "outputs": [],
   "metadata": {}
  },
  {
   "cell_type": "code",
   "execution_count": null,
   "source": [
    "# Gridsearch to determine the value of C\r\n",
    "\r\n",
    "clf = OneVsRestClassifier(SVC(kernel='linear', probability=True))\r\n",
    "clf.fit(X_train, y_train)\r\n",
    "proba = clf.predict_proba(X_train)\r\n",
    "\r\n",
    "print(clf.best_score_)\r\n",
    "\r\n",
    "\r\n"
   ],
   "outputs": [],
   "metadata": {}
  },
  {
   "cell_type": "code",
   "execution_count": null,
   "source": [
    "tuned_parameters = [\r\n",
    "    { \"estimator__gamma\": [1e-3, 1e-4], \"estimator__C\": [1, 10, 100, 1000]}\r\n",
    "]\r\n",
    "svc = SVC(kernel='linear', probability=True)\r\n",
    "clf = OneVsRestClassifier(svc)\r\n",
    "grid_lsvc = GridSearchCV(clf, param_grid = tuned_parameters, cv = 5)\r\n",
    "grid_lsvc.fit(X_train, y_train)\r\n",
    "\r\n",
    "print(grid_lsvc.best_score_)\r\n"
   ],
   "outputs": [],
   "metadata": {}
  },
  {
   "cell_type": "markdown",
   "source": [
    "# LinearSVC"
   ],
   "metadata": {}
  },
  {
   "cell_type": "code",
   "execution_count": null,
   "source": [
    "SVCpipe = Pipeline([('scale', StandardScaler()),\r\n",
    "                   ('SVC',LinearSVC(C=1))])"
   ],
   "outputs": [],
   "metadata": {}
  },
  {
   "cell_type": "code",
   "execution_count": null,
   "source": [
    "# Gridsearch to determine the value of C\r\n",
    "\r\n",
    "clf = OneVsRestClassifier(SVC(kernel='linear', probability=True))\r\n",
    "clf.fit(X_train, y_train)\r\n",
    "proba = clf.predict_proba(X_train)\r\n",
    "\r\n",
    "print(clf.best_score_)\r\n",
    "\r\n",
    "\r\n"
   ],
   "outputs": [],
   "metadata": {}
  },
  {
   "cell_type": "code",
   "execution_count": null,
   "source": [
    "tuned_parameters = [\r\n",
    "    { \"estimator__gamma\": [1e-3, 1e-4], \"estimator__C\": [1, 10, 100, 1000]}\r\n",
    "]\r\n",
    "svc = SVC(kernel='linear', probability=True)\r\n",
    "clf = OneVsRestClassifier(svc)\r\n",
    "grid_lsvc = GridSearchCV(clf, param_grid = tuned_parameters, cv = 5)\r\n",
    "grid_lsvc.fit(X_train, y_train)\r\n",
    "\r\n",
    "print(grid_lsvc.best_score_)\r\n"
   ],
   "outputs": [],
   "metadata": {}
  },
  {
   "cell_type": "code",
   "execution_count": 11,
   "source": [
    "df.head()"
   ],
   "outputs": [
    {
     "output_type": "execute_result",
     "data": {
      "text/html": [
       "<div>\n",
       "<style scoped>\n",
       "    .dataframe tbody tr th:only-of-type {\n",
       "        vertical-align: middle;\n",
       "    }\n",
       "\n",
       "    .dataframe tbody tr th {\n",
       "        vertical-align: top;\n",
       "    }\n",
       "\n",
       "    .dataframe thead th {\n",
       "        text-align: right;\n",
       "    }\n",
       "</style>\n",
       "<table border=\"1\" class=\"dataframe\">\n",
       "  <thead>\n",
       "    <tr style=\"text-align: right;\">\n",
       "      <th></th>\n",
       "      <th>movie_id</th>\n",
       "      <th>year</th>\n",
       "      <th>synopsis</th>\n",
       "      <th>genres</th>\n",
       "    </tr>\n",
       "  </thead>\n",
       "  <tbody>\n",
       "    <tr>\n",
       "      <th>0</th>\n",
       "      <td>30924</td>\n",
       "      <td>2005</td>\n",
       "      <td>Cruel But Necessary is the story of Betty Muns...</td>\n",
       "      <td>[Drama]</td>\n",
       "    </tr>\n",
       "    <tr>\n",
       "      <th>1</th>\n",
       "      <td>34841</td>\n",
       "      <td>2012</td>\n",
       "      <td>Yorkshire, 1974, the Maynard family moves into...</td>\n",
       "      <td>[Drama, Horror, Thriller]</td>\n",
       "    </tr>\n",
       "    <tr>\n",
       "      <th>2</th>\n",
       "      <td>23408</td>\n",
       "      <td>2017</td>\n",
       "      <td>When a renowned architecture scholar falls sud...</td>\n",
       "      <td>[Drama]</td>\n",
       "    </tr>\n",
       "    <tr>\n",
       "      <th>3</th>\n",
       "      <td>39470</td>\n",
       "      <td>1996</td>\n",
       "      <td>The story dealt with Lord Rama and his retalia...</td>\n",
       "      <td>[Children, Drama]</td>\n",
       "    </tr>\n",
       "    <tr>\n",
       "      <th>4</th>\n",
       "      <td>7108</td>\n",
       "      <td>2003</td>\n",
       "      <td>A Thai playboy cons a girl into bed and then l...</td>\n",
       "      <td>[Comedy, Drama, Horror, Thriller]</td>\n",
       "    </tr>\n",
       "  </tbody>\n",
       "</table>\n",
       "</div>"
      ],
      "text/plain": [
       "   movie_id  year                                           synopsis  \\\n",
       "0     30924  2005  Cruel But Necessary is the story of Betty Muns...   \n",
       "1     34841  2012  Yorkshire, 1974, the Maynard family moves into...   \n",
       "2     23408  2017  When a renowned architecture scholar falls sud...   \n",
       "3     39470  1996  The story dealt with Lord Rama and his retalia...   \n",
       "4      7108  2003  A Thai playboy cons a girl into bed and then l...   \n",
       "\n",
       "                              genres  \n",
       "0                            [Drama]  \n",
       "1          [Drama, Horror, Thriller]  \n",
       "2                            [Drama]  \n",
       "3                  [Children, Drama]  \n",
       "4  [Comedy, Drama, Horror, Thriller]  "
      ]
     },
     "metadata": {},
     "execution_count": 11
    }
   ],
   "metadata": {}
  },
  {
   "cell_type": "markdown",
   "source": [
    "# CNN"
   ],
   "metadata": {}
  },
  {
   "cell_type": "code",
   "execution_count": 9,
   "source": [
    "test_split = 0.1\r\n",
    "\r\n",
    "# Initial train and test split.\r\n",
    "\r\n",
    "train_df, test_df = train_test_split(df, test_size=0.2, random_state=9)\r\n",
    "# Splitting the test set further into validation\r\n",
    "# and new test sets.\r\n",
    "val_df = test_df.sample(frac=0.5)\r\n",
    "test_df.drop(val_df.index, inplace=True)\r\n",
    "\r\n",
    "print(f\"Number of rows in training set: {len(train_df)}\")\r\n",
    "print(f\"Number of rows in validation set: {len(val_df)}\")\r\n",
    "print(f\"Number of rows in test set: {len(test_df)}\")"
   ],
   "outputs": [
    {
     "output_type": "stream",
     "name": "stdout",
     "text": [
      "Number of rows in training set: 28390\n",
      "Number of rows in validation set: 3549\n",
      "Number of rows in test set: 3549\n"
     ]
    }
   ],
   "metadata": {}
  },
  {
   "cell_type": "code",
   "execution_count": 220,
   "source": [
    "genres = tf.ragged.constant(train_df[\"genres\"].values)\r\n",
    "lookup = tf.keras.layers.StringLookup(output_mode=\"multi_hot\")\r\n",
    "lookup.adapt(genres)\r\n",
    "vocab = lookup.get_vocabulary()\r\n",
    "\r\n",
    "\r\n",
    "def invert_multi_hot(encoded_labels):\r\n",
    "    \"\"\"Reverse a single multi-hot encoded label to a tuple of vocab genres.\"\"\"\r\n",
    "    hot_indices = np.argwhere(encoded_labels == 1.0)[..., 0]\r\n",
    "    return np.take(vocab, hot_indices)\r\n",
    "\r\n",
    "\r\n",
    "print(\"Vocabulary:\\n\")\r\n",
    "print(vocab)\r\n"
   ],
   "outputs": [
    {
     "output_type": "stream",
     "name": "stdout",
     "text": [
      "Vocabulary:\n",
      "\n",
      "['[UNK]', 'Drama', 'Comedy', 'Thriller', 'Romance', 'Action', 'Horror', 'Documentary', 'Crime', 'Adventure', 'Sci-Fi', 'Mystery', 'Children', 'Animation', 'Fantasy', 'War', 'Western', 'Musical', 'Film-Noir', 'IMAX']\n"
     ]
    }
   ],
   "metadata": {}
  },
  {
   "cell_type": "code",
   "execution_count": 11,
   "source": [
    "sample_label = train_df[\"genres\"].iloc[0]\r\n",
    "print(f\"Original label: {sample_label}\")\r\n",
    "\r\n",
    "label_binarized = lookup([sample_label])\r\n",
    "print(f\"Label-binarized representation: {label_binarized}\")"
   ],
   "outputs": [
    {
     "output_type": "stream",
     "name": "stdout",
     "text": [
      "Original label: ['Drama']\n",
      "Label-binarized representation: [[0. 1. 0. 0. 0. 0. 0. 0. 0. 0. 0. 0. 0. 0. 0. 0. 0. 0. 0. 0.]]\n"
     ]
    }
   ],
   "metadata": {}
  },
  {
   "cell_type": "code",
   "execution_count": 12,
   "source": [
    "train_df[\"synopsis\"].apply(lambda x: len(x.split(\" \"))).describe()\r\n"
   ],
   "outputs": [
    {
     "output_type": "execute_result",
     "data": {
      "text/plain": [
       "count    28390.000000\n",
       "mean        30.189010\n",
       "std         18.981391\n",
       "min          1.000000\n",
       "25%         15.000000\n",
       "50%         26.000000\n",
       "75%         40.000000\n",
       "max        134.000000\n",
       "Name: synopsis, dtype: float64"
      ]
     },
     "metadata": {},
     "execution_count": 12
    }
   ],
   "metadata": {}
  },
  {
   "cell_type": "code",
   "execution_count": 13,
   "source": [
    "max_seqlen = 150\r\n",
    "batch_size = 128\r\n",
    "padding_token = \"<pad>\"\r\n",
    "auto = tf.data.AUTOTUNE\r\n",
    "\r\n",
    "\r\n",
    "def make_dataset(dataframe, is_train=True):\r\n",
    "    labels = tf.ragged.constant(dataframe[\"genres\"].values)\r\n",
    "    label_binarized = lookup(labels).numpy()\r\n",
    "    dataset = tf.data.Dataset.from_tensor_slices(\r\n",
    "        (dataframe[\"synopsis\"].values, label_binarized)\r\n",
    "    )\r\n",
    "    dataset = dataset.shuffle(batch_size * 10) if is_train else dataset\r\n",
    "    return dataset.batch(batch_size)"
   ],
   "outputs": [],
   "metadata": {}
  },
  {
   "cell_type": "code",
   "execution_count": 14,
   "source": [
    "train_dataset = make_dataset(train_df, is_train=True)\r\n",
    "validation_dataset = make_dataset(val_df, is_train=False)\r\n",
    "test_dataset = make_dataset(test_df, is_train=False)"
   ],
   "outputs": [],
   "metadata": {}
  },
  {
   "cell_type": "code",
   "execution_count": 15,
   "source": [
    "text_batch, label_batch = next(iter(train_dataset))\r\n",
    "\r\n",
    "for i, text in enumerate(text_batch[:5]):\r\n",
    "    label = label_batch[i].numpy()[None, ...]\r\n",
    "    print(f\"Abstract: {text}\")\r\n",
    "    print(f\"Label(s): {invert_multi_hot(label[0])}\")\r\n",
    "    print(\" \")"
   ],
   "outputs": [
    {
     "output_type": "stream",
     "name": "stdout",
     "text": [
      "Abstract: b'documentary takes alternative approach dealing global warming crisis'\n",
      "Label(s): ['Documentary']\n",
      " \n",
      "Abstract: b'young child luther geek freak witnesses band men goading geek man bites chicken heads drinks blood performing ensuing hullabaloo luther bites lip likes taste blood flash forward thirty years parole board meeting discuss luther release seems cheeky blighter murdering folk meantime dopey parole board trainee sides liberals luther unleashed except special pair customized metal teeth luther proceeds bite heads many hapless folk tense ending movie notable bare dialog whole stretches pass without sound audio composed luther clucking insanely like chicken'\n",
      "Label(s): ['Horror']\n",
      " \n",
      "Abstract: b'olmi short young boy first love'\n",
      "Label(s): ['Romance']\n",
      " \n",
      "Abstract: b'social satire based best seller adele lang humorously chronicles life katya livingston self centered obnoxious conceited year old ad sales exec wo let anything anyone stand way getting top san francisco social ladder'\n",
      "Label(s): ['Comedy' 'Romance']\n",
      " \n",
      "Abstract: b'unwittingly sends men trap pirate captain peter blood decides rescue taken prisoner spanish marquis de riconete using slave labor harvesting pearls sea'\n",
      "Label(s): ['Romance' 'Action' 'Adventure']\n",
      " \n"
     ]
    }
   ],
   "metadata": {}
  },
  {
   "cell_type": "code",
   "execution_count": 16,
   "source": [
    "vocabulary = set()\r\n",
    "train_df[\"synopsis\"].str.lower().str.split().apply(vocabulary.update)\r\n",
    "vocabulary_size = len(vocabulary)\r\n",
    "print(vocabulary_size)"
   ],
   "outputs": [
    {
     "output_type": "stream",
     "name": "stdout",
     "text": [
      "58092\n"
     ]
    }
   ],
   "metadata": {}
  },
  {
   "cell_type": "code",
   "execution_count": 17,
   "source": [
    "text_vectorizer = layers.TextVectorization(\r\n",
    "    max_tokens=vocabulary_size, ngrams=2, output_mode=\"tf_idf\"\r\n",
    ")\r\n",
    "\r\n",
    "# `TextVectorization` layer needs to be adapted as per the vocabulary from our\r\n",
    "# training set.\r\n",
    "with tf.device(\"/CPU:0\"):\r\n",
    "    text_vectorizer.adapt(train_dataset.map(lambda text, label: text))\r\n",
    "\r\n",
    "train_dataset = train_dataset.map(\r\n",
    "    lambda text, label: (text_vectorizer(text), label), num_parallel_calls=auto\r\n",
    ").prefetch(auto)\r\n",
    "validation_dataset = validation_dataset.map(\r\n",
    "    lambda text, label: (text_vectorizer(text), label), num_parallel_calls=auto\r\n",
    ").prefetch(auto)\r\n",
    "test_dataset = test_dataset.map(\r\n",
    "    lambda text, label: (text_vectorizer(text), label), num_parallel_calls=auto\r\n",
    ").prefetch(auto)"
   ],
   "outputs": [],
   "metadata": {}
  },
  {
   "cell_type": "code",
   "execution_count": 30,
   "source": [
    "def make_model():\n",
    "    shallow_mlp_model = keras.Sequential(\n",
    "        [\n",
    "            layers.Dense(512, activation=\"relu\"),\n",
    "            layers.Dense(256, activation=\"relu\"),\n",
    "            #layers.Embedding(vocabulary_size, 100, input_length=150),\n",
    "            #layers.SpatialDropout1D(0.2),\n",
    "            #layers.LSTM(200, dropout=0.2, recurrent_dropout=0.2),\n",
    "            layers.Dense(lookup.vocabulary_size(), activation=\"sigmoid\"),\n",
    "        ]  # More on why \"sigmoid\" has been used here in a moment.\n",
    "    )\n",
    "    return shallow_mlp_model"
   ],
   "outputs": [],
   "metadata": {}
  },
  {
   "cell_type": "code",
   "execution_count": 31,
   "source": [
    "epochs = 50\r\n",
    "\r\n",
    "shallow_mlp_model = make_model()\r\n",
    "shallow_mlp_model.compile(\r\n",
    "    loss=\"binary_crossentropy\", optimizer=\"adam\", metrics=[\"categorical_accuracy\"]\r\n",
    ")\r\n",
    "\r\n",
    "history = shallow_mlp_model.fit(\r\n",
    "    train_dataset, validation_data=validation_dataset, epochs=epochs\r\n",
    ")\r\n",
    "\r\n",
    "\r\n",
    "def plot_result(item):\r\n",
    "    plt.plot(history.history[item], label=item)\r\n",
    "    plt.plot(history.history[\"val_\" + item], label=\"val_\" + item)\r\n",
    "    plt.xlabel(\"Epochs\")\r\n",
    "    plt.ylabel(item)\r\n",
    "    plt.title(\"Train and Validation {} Over Epochs\".format(item), fontsize=14)\r\n",
    "    plt.legend()\r\n",
    "    plt.grid()\r\n",
    "    plt.show()\r\n",
    "\r\n",
    "\r\n",
    "plot_result(\"loss\")\r\n",
    "plot_result(\"categorical_accuracy\")"
   ],
   "outputs": [
    {
     "output_type": "stream",
     "name": "stdout",
     "text": [
      "Epoch 1/50\n",
      "222/222 [==============================] - 11s 46ms/step - loss: 0.2269 - categorical_accuracy: 0.5014 - val_loss: 0.1883 - val_categorical_accuracy: 0.5404\n",
      "Epoch 2/50\n",
      "222/222 [==============================] - 10s 45ms/step - loss: 0.0684 - categorical_accuracy: 0.6309 - val_loss: 0.2309 - val_categorical_accuracy: 0.4776\n",
      "Epoch 3/50\n",
      "222/222 [==============================] - 11s 47ms/step - loss: 0.0177 - categorical_accuracy: 0.6664 - val_loss: 0.3363 - val_categorical_accuracy: 0.4691\n",
      "Epoch 4/50\n",
      "222/222 [==============================] - 10s 46ms/step - loss: 0.0076 - categorical_accuracy: 0.6995 - val_loss: 0.4053 - val_categorical_accuracy: 0.4773\n",
      "Epoch 5/50\n",
      "222/222 [==============================] - 10s 46ms/step - loss: 0.0055 - categorical_accuracy: 0.7111 - val_loss: 0.4314 - val_categorical_accuracy: 0.4861\n",
      "Epoch 6/50\n",
      "222/222 [==============================] - 11s 47ms/step - loss: 0.0063 - categorical_accuracy: 0.7104 - val_loss: 0.4747 - val_categorical_accuracy: 0.4675\n",
      "Epoch 7/50\n",
      "222/222 [==============================] - 10s 45ms/step - loss: 0.0060 - categorical_accuracy: 0.7105 - val_loss: 0.4779 - val_categorical_accuracy: 0.4584\n",
      "Epoch 8/50\n",
      "222/222 [==============================] - 10s 45ms/step - loss: 0.0060 - categorical_accuracy: 0.7075 - val_loss: 0.5295 - val_categorical_accuracy: 0.4658\n",
      "Epoch 9/50\n",
      "222/222 [==============================] - 10s 46ms/step - loss: 0.0059 - categorical_accuracy: 0.7057 - val_loss: 0.5414 - val_categorical_accuracy: 0.4646\n",
      "Epoch 10/50\n",
      "222/222 [==============================] - 10s 46ms/step - loss: 0.0055 - categorical_accuracy: 0.7020 - val_loss: 0.5527 - val_categorical_accuracy: 0.4497\n",
      "Epoch 11/50\n",
      "222/222 [==============================] - 10s 46ms/step - loss: 0.0048 - categorical_accuracy: 0.6990 - val_loss: 0.5950 - val_categorical_accuracy: 0.4427\n",
      "Epoch 12/50\n",
      "222/222 [==============================] - 10s 46ms/step - loss: 0.0038 - categorical_accuracy: 0.6937 - val_loss: 0.6132 - val_categorical_accuracy: 0.4286\n",
      "Epoch 13/50\n",
      "222/222 [==============================] - 10s 45ms/step - loss: 0.0031 - categorical_accuracy: 0.6990 - val_loss: 0.6158 - val_categorical_accuracy: 0.4438\n",
      "Epoch 14/50\n",
      "222/222 [==============================] - 10s 45ms/step - loss: 0.0031 - categorical_accuracy: 0.6880 - val_loss: 0.6470 - val_categorical_accuracy: 0.4494\n",
      "Epoch 15/50\n",
      "222/222 [==============================] - 10s 46ms/step - loss: 0.0029 - categorical_accuracy: 0.6975 - val_loss: 0.6552 - val_categorical_accuracy: 0.4548\n",
      "Epoch 16/50\n",
      "222/222 [==============================] - 10s 45ms/step - loss: 0.0027 - categorical_accuracy: 0.6942 - val_loss: 0.6933 - val_categorical_accuracy: 0.4449\n",
      "Epoch 17/50\n",
      "222/222 [==============================] - 10s 45ms/step - loss: 0.0027 - categorical_accuracy: 0.6940 - val_loss: 0.6794 - val_categorical_accuracy: 0.4593\n",
      "Epoch 18/50\n",
      "222/222 [==============================] - 10s 45ms/step - loss: 0.0024 - categorical_accuracy: 0.6933 - val_loss: 0.7526 - val_categorical_accuracy: 0.4252\n",
      "Epoch 19/50\n",
      "222/222 [==============================] - 10s 45ms/step - loss: 0.0026 - categorical_accuracy: 0.6976 - val_loss: 0.6724 - val_categorical_accuracy: 0.4466\n",
      "Epoch 20/50\n",
      "222/222 [==============================] - 10s 45ms/step - loss: 0.0028 - categorical_accuracy: 0.6847 - val_loss: 0.7329 - val_categorical_accuracy: 0.4545\n",
      "Epoch 21/50\n",
      "222/222 [==============================] - 10s 45ms/step - loss: 0.0036 - categorical_accuracy: 0.6784 - val_loss: 0.6734 - val_categorical_accuracy: 0.4477\n",
      "Epoch 22/50\n",
      "222/222 [==============================] - 10s 44ms/step - loss: 0.0029 - categorical_accuracy: 0.6791 - val_loss: 0.8077 - val_categorical_accuracy: 0.4511\n",
      "Epoch 23/50\n",
      "222/222 [==============================] - 10s 46ms/step - loss: 0.0033 - categorical_accuracy: 0.6702 - val_loss: 0.7488 - val_categorical_accuracy: 0.4376\n",
      "Epoch 24/50\n",
      "222/222 [==============================] - 10s 46ms/step - loss: 0.0029 - categorical_accuracy: 0.6584 - val_loss: 0.7986 - val_categorical_accuracy: 0.4641\n",
      "Epoch 25/50\n",
      "222/222 [==============================] - 10s 46ms/step - loss: 0.0021 - categorical_accuracy: 0.6686 - val_loss: 0.8415 - val_categorical_accuracy: 0.4525\n",
      "Epoch 26/50\n",
      "222/222 [==============================] - 10s 45ms/step - loss: 0.0027 - categorical_accuracy: 0.6714 - val_loss: 0.7731 - val_categorical_accuracy: 0.4438\n",
      "Epoch 27/50\n",
      "222/222 [==============================] - 10s 45ms/step - loss: 0.0024 - categorical_accuracy: 0.6698 - val_loss: 0.7928 - val_categorical_accuracy: 0.4370\n",
      "Epoch 28/50\n",
      "222/222 [==============================] - 10s 46ms/step - loss: 0.0014 - categorical_accuracy: 0.6727 - val_loss: 0.8580 - val_categorical_accuracy: 0.4418\n",
      "Epoch 29/50\n",
      "222/222 [==============================] - 10s 46ms/step - loss: 0.0013 - categorical_accuracy: 0.6704 - val_loss: 0.8462 - val_categorical_accuracy: 0.4520\n",
      "Epoch 30/50\n",
      "222/222 [==============================] - 10s 46ms/step - loss: 0.0011 - categorical_accuracy: 0.6573 - val_loss: 0.8649 - val_categorical_accuracy: 0.4514\n",
      "Epoch 31/50\n",
      "222/222 [==============================] - 10s 45ms/step - loss: 0.0015 - categorical_accuracy: 0.6619 - val_loss: 0.8722 - val_categorical_accuracy: 0.4562\n",
      "Epoch 32/50\n",
      "222/222 [==============================] - 10s 46ms/step - loss: 0.0017 - categorical_accuracy: 0.6581 - val_loss: 0.8835 - val_categorical_accuracy: 0.4556\n",
      "Epoch 33/50\n",
      "222/222 [==============================] - 10s 46ms/step - loss: 0.0020 - categorical_accuracy: 0.6540 - val_loss: 0.8457 - val_categorical_accuracy: 0.4384\n",
      "Epoch 34/50\n",
      "222/222 [==============================] - 10s 45ms/step - loss: 0.0024 - categorical_accuracy: 0.6611 - val_loss: 0.8457 - val_categorical_accuracy: 0.4737\n",
      "Epoch 35/50\n",
      "222/222 [==============================] - 10s 45ms/step - loss: 0.0021 - categorical_accuracy: 0.6553 - val_loss: 0.9140 - val_categorical_accuracy: 0.4562\n",
      "Epoch 36/50\n",
      "222/222 [==============================] - 10s 45ms/step - loss: 0.0025 - categorical_accuracy: 0.6599 - val_loss: 0.8470 - val_categorical_accuracy: 0.4246\n",
      "Epoch 37/50\n",
      "222/222 [==============================] - 10s 46ms/step - loss: 0.0018 - categorical_accuracy: 0.6650 - val_loss: 0.9255 - val_categorical_accuracy: 0.4480\n",
      "Epoch 38/50\n",
      "222/222 [==============================] - 10s 45ms/step - loss: 0.0014 - categorical_accuracy: 0.6571 - val_loss: 0.9171 - val_categorical_accuracy: 0.4646\n",
      "Epoch 39/50\n",
      "222/222 [==============================] - 10s 46ms/step - loss: 0.0021 - categorical_accuracy: 0.6590 - val_loss: 0.9166 - val_categorical_accuracy: 0.4266\n",
      "Epoch 40/50\n",
      "222/222 [==============================] - 10s 44ms/step - loss: 0.0021 - categorical_accuracy: 0.6528 - val_loss: 0.9166 - val_categorical_accuracy: 0.4308\n",
      "Epoch 41/50\n",
      "222/222 [==============================] - 10s 45ms/step - loss: 0.0016 - categorical_accuracy: 0.6512 - val_loss: 1.0139 - val_categorical_accuracy: 0.4491\n",
      "Epoch 42/50\n",
      "222/222 [==============================] - 10s 45ms/step - loss: 0.0016 - categorical_accuracy: 0.6477 - val_loss: 1.0321 - val_categorical_accuracy: 0.4584\n",
      "Epoch 43/50\n",
      "222/222 [==============================] - 10s 45ms/step - loss: 0.0014 - categorical_accuracy: 0.6578 - val_loss: 1.0863 - val_categorical_accuracy: 0.4567\n",
      "Epoch 44/50\n",
      "222/222 [==============================] - 10s 46ms/step - loss: 0.0018 - categorical_accuracy: 0.6545 - val_loss: 0.9991 - val_categorical_accuracy: 0.4415\n",
      "Epoch 45/50\n",
      "222/222 [==============================] - 10s 45ms/step - loss: 0.0017 - categorical_accuracy: 0.6490 - val_loss: 1.0134 - val_categorical_accuracy: 0.4500\n",
      "Epoch 46/50\n",
      "222/222 [==============================] - 10s 46ms/step - loss: 0.0014 - categorical_accuracy: 0.6578 - val_loss: 1.0856 - val_categorical_accuracy: 0.4441\n",
      "Epoch 47/50\n",
      "222/222 [==============================] - 10s 46ms/step - loss: 0.0012 - categorical_accuracy: 0.6680 - val_loss: 1.0554 - val_categorical_accuracy: 0.4142\n",
      "Epoch 48/50\n",
      "222/222 [==============================] - 10s 46ms/step - loss: 0.0011 - categorical_accuracy: 0.6505 - val_loss: 1.0221 - val_categorical_accuracy: 0.4325\n",
      "Epoch 49/50\n",
      "222/222 [==============================] - 10s 46ms/step - loss: 9.7801e-04 - categorical_accuracy: 0.6610 - val_loss: 1.1088 - val_categorical_accuracy: 0.4505\n",
      "Epoch 50/50\n",
      "222/222 [==============================] - 10s 44ms/step - loss: 8.1596e-04 - categorical_accuracy: 0.6743 - val_loss: 1.2037 - val_categorical_accuracy: 0.4793\n"
     ]
    },
    {
     "output_type": "display_data",
     "data": {
      "image/png": "[encoded data removed]",
      "text/plain": [
       "<Figure size 432x288 with 1 Axes>"
      ]
     },
     "metadata": {
      "needs_background": "light"
     }
    },
    {
     "output_type": "display_data",
     "data": {
      "image/png": "[encoded data removed]",
      "text/plain": [
       "<Figure size 432x288 with 1 Axes>"
      ]
     },
     "metadata": {
      "needs_background": "light"
     }
    }
   ],
   "metadata": {}
  },
  {
   "cell_type": "code",
   "execution_count": 40,
   "source": [
    "_, categorical_acc = shallow_mlp_model.evaluate(test_dataset)\r\n",
    "print(f\"Categorical accuracy on the test set: {round(categorical_acc * 100, 2)}%.\")\r\n"
   ],
   "outputs": [
    {
     "output_type": "stream",
     "name": "stdout",
     "text": [
      "28/28 [==============================] - 0s 13ms/step - loss: 1.2357 - categorical_accuracy: 0.4652\n",
      "Categorical accuracy on the test set: 46.52%.\n",
      "1.2356828451156616\n"
     ]
    }
   ],
   "metadata": {}
  },
  {
   "cell_type": "code",
   "execution_count": 41,
   "source": [
    "# Create a model for inference.\r\n",
    "model_for_inference = keras.Sequential([text_vectorizer, shallow_mlp_model])\r\n",
    "\r\n",
    "# Create a small dataset just for demoing inference.\r\n",
    "inference_dataset = make_dataset(test_df.sample(100), is_train=False)\r\n",
    "text_batch, label_batch = next(iter(inference_dataset))\r\n",
    "predicted_probabilities = model_for_inference.predict(text_batch)\r\n",
    "\r\n",
    "# Perform inference.\r\n",
    "for i, text in enumerate(text_batch[:5]):\r\n",
    "    label = label_batch[i].numpy()[None, ...]\r\n",
    "    print(f\"Abstract: {text}\")\r\n",
    "    print(f\"Label(s): {invert_multi_hot(label[0])}\")\r\n",
    "    predicted_proba = [proba for proba in predicted_probabilities[i]]\r\n",
    "    top_3_labels = [\r\n",
    "        x\r\n",
    "        for _, x in sorted(\r\n",
    "            zip(predicted_probabilities[i], lookup.get_vocabulary()),\r\n",
    "            key=lambda pair: pair[0],\r\n",
    "            reverse=True,\r\n",
    "        )\r\n",
    "    ][:3]\r\n",
    "    print(f\"Predicted Label(s): ({', '.join([label for label in top_3_labels])})\")\r\n",
    "    print(\" \")"
   ],
   "outputs": [
    {
     "output_type": "stream",
     "name": "stdout",
     "text": [
      "Abstract: b'man monotonous job punching tickets japanese railway night walking home saves jun getting raped hoodlums days later sneaks house gets discovered later watches son subdue insect chemical man gets idea subdue women sleeping wo discovered sneaking home new hobby spirals control confidence grows'\n",
      "Label(s): ['Drama' 'Crime']\n",
      "Predicted Label(s): (Thriller, Drama, Romance)\n",
      " \n",
      "Abstract: b'sarah barcant lawyer new york city grew south africa returns childhood dwelling place intercede alex mpondo black south african politician tortured apartheid'\n",
      "Label(s): ['Drama']\n",
      "Predicted Label(s): (Drama, Thriller, Children)\n",
      " \n",
      "Abstract: b'city life death takes place height second sino japanese war imperial japanese army captured capital republic china nanjing followed known nanking massacre rape nanking period several weeks wherein tens thousands chinese soldiers civilians killed'\n",
      "Label(s): ['Drama' 'War']\n",
      "Predicted Label(s): (Drama, War, Documentary)\n",
      " \n",
      "Abstract: b'wrongly time prison murder man seeks revenge racist law enforcement system detective framed'\n",
      "Label(s): ['Thriller' 'Action']\n",
      "Predicted Label(s): (Crime, Action, Drama)\n",
      " \n",
      "Abstract: b'celebration trans community puerto rico fissure internal external ever present battle unique exploration self discovery activism featuring diverse collection subjects include lgbtq advocates business owners sex workers boisterous group drag performers call doll house mala mala portrays fight personal community acceptance paved triumphant highs devastating lows'\n",
      "Label(s): ['Drama' 'Documentary']\n",
      "Predicted Label(s): (Documentary, IMAX, Sci-Fi)\n",
      " \n"
     ]
    }
   ],
   "metadata": {}
  },
  {
   "cell_type": "code",
   "execution_count": null,
   "source": [],
   "outputs": [],
   "metadata": {}
  }
 ],
 "metadata": {
  "interpreter": {
   "hash": "ad4a7f633457edeca986db117c49439398b3575b7cfc8b89bb9541a12d05f016"
  },
  "kernelspec": {
   "display_name": "Python 3",
   "language": "python",
   "name": "python3"
  },
  "language_info": {
   "codemirror_mode": {
    "name": "ipython",
    "version": 3
   },
   "file_extension": ".py",
   "mimetype": "text/x-python",
   "name": "python",
   "nbconvert_exporter": "python",
   "pygments_lexer": "ipython3",
   "version": "3.7.9"
  }
 },
 "nbformat": 4,
 "nbformat_minor": 4
}