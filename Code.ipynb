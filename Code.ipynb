{
 "cells": [
  {
   "cell_type": "code",
   "execution_count": 130,
   "source": [
    "import pandas as pd\r\n",
    "import numpy as np\r\n",
    "import json\r\n",
    "import string\r\n",
    "import matplotlib.pyplot as plt \r\n",
    "import seaborn as sns\r\n",
    "from tqdm import tqdm\r\n",
    "from sklearn.feature_extraction.text import TfidfVectorizer\r\n",
    "from sklearn.model_selection import train_test_split\r\n",
    "import nltk\r\n",
    "from sklearn.metrics import roc_auc_score, roc_curve, precision_recall_curve, confusion_matrix\r\n",
    "import operator\r\n",
    "\r\n",
    "import warnings\r\n",
    "from sklearn.tree import DecisionTreeClassifier\r\n",
    "from sklearn.linear_model import SGDClassifier\r\n",
    "\r\n",
    "warnings.filterwarnings('ignore')\r\n",
    "\r\n",
    "from sklearn.linear_model import LogisticRegression\r\n",
    "from sklearn.multiclass import OneVsRestClassifier\r\n",
    "from sklearn.metrics import f1_score\r\n",
    "from nltk import word_tokenize, FreqDist\r\n",
    "from nltk.corpus import stopwords\r\n",
    "from sklearn.naive_bayes import MultinomialNB\r\n",
    "from sklearn.model_selection import train_test_split, GridSearchCV\r\n",
    "import tensorflow as tf\r\n",
    "from tensorflow import keras\r\n",
    "from tensorflow.keras import layers\r\n",
    "import re\r\n",
    "from tensorflow.keras.layers import Flatten, Dense, Dropout, BatchNormalization, Conv2D, MaxPool2D\r\n"
   ],
   "outputs": [],
   "metadata": {}
  },
  {
   "cell_type": "code",
   "execution_count": 81,
   "source": [
    "df = pd.read_csv(\"Test/mediascale/movies.csv\")\r\n",
    "df.head()"
   ],
   "outputs": [
    {
     "output_type": "execute_result",
     "data": {
      "text/html": [
       "<div>\n",
       "<style scoped>\n",
       "    .dataframe tbody tr th:only-of-type {\n",
       "        vertical-align: middle;\n",
       "    }\n",
       "\n",
       "    .dataframe tbody tr th {\n",
       "        vertical-align: top;\n",
       "    }\n",
       "\n",
       "    .dataframe thead th {\n",
       "        text-align: right;\n",
       "    }\n",
       "</style>\n",
       "<table border=\"1\" class=\"dataframe\">\n",
       "  <thead>\n",
       "    <tr style=\"text-align: right;\">\n",
       "      <th></th>\n",
       "      <th>movie_id</th>\n",
       "      <th>year</th>\n",
       "      <th>synopsis</th>\n",
       "      <th>genres</th>\n",
       "    </tr>\n",
       "  </thead>\n",
       "  <tbody>\n",
       "    <tr>\n",
       "      <th>0</th>\n",
       "      <td>30924</td>\n",
       "      <td>2005</td>\n",
       "      <td>Cruel But Necessary is the story of Betty Muns...</td>\n",
       "      <td>Drama</td>\n",
       "    </tr>\n",
       "    <tr>\n",
       "      <th>1</th>\n",
       "      <td>34841</td>\n",
       "      <td>2012</td>\n",
       "      <td>Yorkshire, 1974, the Maynard family moves into...</td>\n",
       "      <td>Drama Horror Thriller</td>\n",
       "    </tr>\n",
       "    <tr>\n",
       "      <th>2</th>\n",
       "      <td>23408</td>\n",
       "      <td>2017</td>\n",
       "      <td>When a renowned architecture scholar falls sud...</td>\n",
       "      <td>Drama</td>\n",
       "    </tr>\n",
       "    <tr>\n",
       "      <th>3</th>\n",
       "      <td>39470</td>\n",
       "      <td>1996</td>\n",
       "      <td>The story dealt with Lord Rama and his retalia...</td>\n",
       "      <td>Children Drama</td>\n",
       "    </tr>\n",
       "    <tr>\n",
       "      <th>4</th>\n",
       "      <td>7108</td>\n",
       "      <td>2003</td>\n",
       "      <td>A Thai playboy cons a girl into bed and then l...</td>\n",
       "      <td>Comedy Drama Horror Thriller</td>\n",
       "    </tr>\n",
       "  </tbody>\n",
       "</table>\n",
       "</div>"
      ],
      "text/plain": [
       "   movie_id  year                                           synopsis  \\\n",
       "0     30924  2005  Cruel But Necessary is the story of Betty Muns...   \n",
       "1     34841  2012  Yorkshire, 1974, the Maynard family moves into...   \n",
       "2     23408  2017  When a renowned architecture scholar falls sud...   \n",
       "3     39470  1996  The story dealt with Lord Rama and his retalia...   \n",
       "4      7108  2003  A Thai playboy cons a girl into bed and then l...   \n",
       "\n",
       "                         genres  \n",
       "0                         Drama  \n",
       "1         Drama Horror Thriller  \n",
       "2                         Drama  \n",
       "3                Children Drama  \n",
       "4  Comedy Drama Horror Thriller  "
      ]
     },
     "metadata": {},
     "execution_count": 81
    }
   ],
   "metadata": {}
  },
  {
   "cell_type": "code",
   "execution_count": 82,
   "source": [
    "df.info()"
   ],
   "outputs": [
    {
     "output_type": "stream",
     "name": "stdout",
     "text": [
      "<class 'pandas.core.frame.DataFrame'>\n",
      "RangeIndex: 35488 entries, 0 to 35487\n",
      "Data columns (total 4 columns):\n",
      " #   Column    Non-Null Count  Dtype \n",
      "---  ------    --------------  ----- \n",
      " 0   movie_id  35488 non-null  int64 \n",
      " 1   year      35488 non-null  int64 \n",
      " 2   synopsis  35488 non-null  object\n",
      " 3   genres    35488 non-null  object\n",
      "dtypes: int64(2), object(2)\n",
      "memory usage: 1.1+ MB\n"
     ]
    }
   ],
   "metadata": {}
  },
  {
   "cell_type": "code",
   "execution_count": 83,
   "source": [
    "df = df[~(df['genres'].str.len() == 0)]"
   ],
   "outputs": [],
   "metadata": {}
  },
  {
   "cell_type": "code",
   "execution_count": 84,
   "source": [
    "genres = [] \r\n",
    "\r\n",
    "for i in df['genres']: \r\n",
    "  genres.append((i.split(' '))) \r\n",
    "\r\n",
    "df['genres'] = genres"
   ],
   "outputs": [],
   "metadata": {}
  },
  {
   "cell_type": "code",
   "execution_count": 85,
   "source": [
    "all_genres = sum(genres,[])\r\n",
    "len(set(all_genres))"
   ],
   "outputs": [
    {
     "output_type": "execute_result",
     "data": {
      "text/plain": [
       "19"
      ]
     },
     "metadata": {},
     "execution_count": 85
    }
   ],
   "metadata": {}
  },
  {
   "cell_type": "code",
   "execution_count": 86,
   "source": [
    "all_genres = nltk.FreqDist(all_genres) \r\n",
    "all_genres_df = pd.DataFrame({'Genre': list(all_genres.keys()), \r\n",
    "                              'Count': list(all_genres.values())})"
   ],
   "outputs": [],
   "metadata": {}
  },
  {
   "cell_type": "code",
   "execution_count": 87,
   "source": [
    "g = all_genres_df.nlargest(columns=\"Count\", n = 50) \r\n",
    "plt.figure(figsize=(12,15)) \r\n",
    "ax = sns.barplot(data=g, x= \"Count\", y = \"Genre\") \r\n",
    "ax.set(ylabel = 'Count') \r\n",
    "plt.show()"
   ],
   "outputs": [
    {
     "output_type": "display_data",
     "data": {
      "image/png": "[encoded data removed]",
      "text/plain": [
       "<Figure size 864x1080 with 1 Axes>"
      ]
     },
     "metadata": {
      "needs_background": "light"
     }
    }
   ],
   "metadata": {}
  },
  {
   "cell_type": "code",
   "execution_count": 88,
   "source": [
    "stopwords_list = stopwords.words('english')\r\n",
    "stopwords_list += list(string.punctuation)\r\n",
    "stopwords_list += ['one', 'two', 'go','goes', 'get', 'also', 'however', 'tells'] \r\n",
    "stopwords_list += [0, 1, 2, 3, 4, 5, 6, 7, 8, 9]\r\n",
    "def clean_text(text):\r\n",
    "    text = text.lower()\r\n",
    "    text = re.sub(r\"what's\", \"what is \", text)\r\n",
    "    text = re.sub(r\"\\'s\", \" \", text)\r\n",
    "    text = re.sub(r\"\\'ve\", \" have \", text)\r\n",
    "    text = re.sub(r\"can't\", \"can not \", text)\r\n",
    "    text = re.sub(r\"n't\", \" not \", text)\r\n",
    "    text = re.sub(r\"\\'re\", \" are \", text)\r\n",
    "    text = re.sub(r\"\\'d\", \" would \", text)\r\n",
    "    text = re.sub(r\"\\'ll\", \" will \", text)\r\n",
    "    text = re.sub(r\"\\'scuse\", \" excuse \", text)\r\n",
    "    text = re.sub('\\W', ' ', text)\r\n",
    "    text = re.sub('\\s+', ' ', text)\r\n",
    "    text = re.sub('\\d+', ' ', text)\r\n",
    "    text = text.strip(' ')\r\n",
    "    text = word_tokenize(text)\r\n",
    "    text = [w for w in text if w not in stopwords_list]\r\n",
    "    text = ' '.join(text)\r\n",
    "    return text"
   ],
   "outputs": [],
   "metadata": {}
  },
  {
   "cell_type": "code",
   "execution_count": 89,
   "source": [
    "df['synopsis'] = df['synopsis'].map(lambda x : clean_text(x))\r\n"
   ],
   "outputs": [],
   "metadata": {}
  },
  {
   "cell_type": "code",
   "execution_count": 90,
   "source": [
    "df['synopsis']"
   ],
   "outputs": [
    {
     "output_type": "execute_result",
     "data": {
      "text/plain": [
       "0        cruel necessary story betty munson strange jou...\n",
       "1        yorkshire maynard family moves dream house dre...\n",
       "2        renowned architecture scholar falls suddenly i...\n",
       "3        story dealt lord rama retaliation ravana chara...\n",
       "4        thai playboy cons girl bed leaves finding preg...\n",
       "                               ...                        \n",
       "35483    prequel mou gaan dou chan wing yan become unde...\n",
       "35484    ann husband george son georgie arrive holiday ...\n",
       "35485    former sports star fallen hard times starts co...\n",
       "35486    hard hitting western drama starring mitchum or...\n",
       "35487    abner peacock knotts beloved bird watcher maga...\n",
       "Name: synopsis, Length: 35488, dtype: object"
      ]
     },
     "metadata": {},
     "execution_count": 90
    }
   ],
   "metadata": {}
  },
  {
   "cell_type": "code",
   "execution_count": 91,
   "source": [
    "df = df.drop(columns=['year'])"
   ],
   "outputs": [],
   "metadata": {}
  },
  {
   "cell_type": "code",
   "execution_count": 92,
   "source": [
    "from sklearn.preprocessing import MultiLabelBinarizer\r\n",
    "\r\n",
    "multilabel_binarizer = MultiLabelBinarizer()\r\n",
    "multilabel_binarizer.fit(df['genres'])\r\n",
    "y = multilabel_binarizer.transform(df['genres'])"
   ],
   "outputs": [],
   "metadata": {}
  },
  {
   "cell_type": "code",
   "execution_count": 93,
   "source": [
    "X_train, X_test, y_train, y_test = train_test_split(df['synopsis'], y, test_size=0.2, random_state=9)"
   ],
   "outputs": [],
   "metadata": {}
  },
  {
   "cell_type": "code",
   "execution_count": 94,
   "source": [
    "from sklearn.dummy import DummyClassifier\r\n",
    "dummy_grid = {\r\n",
    "    'estimator__strategy': ['most_frequent', 'stratified', 'prior', 'uniform', 'constant']\r\n",
    "}\r\n",
    "dummy = DummyClassifier( random_state = 42)\r\n",
    "clf = OneVsRestClassifier(dummy)\r\n",
    "dummy_gs = GridSearchCV(clf, param_grid = dummy_grid, cv = 5)\r\n",
    "dummy_gs.fit(X_train, y_train)\r\n",
    "print(dummy_gs.best_score_)"
   ],
   "outputs": [
    {
     "output_type": "stream",
     "name": "stdout",
     "text": [
      "0.03039802747446284\n"
     ]
    }
   ],
   "metadata": {}
  },
  {
   "cell_type": "code",
   "execution_count": 95,
   "source": [
    "vectorizer = TfidfVectorizer(ngram_range = (1,1), max_df=1.0, min_df=15, lowercase=False)\r\n",
    "X_train = vectorizer.fit_transform(X_train)\r\n",
    "\r\n"
   ],
   "outputs": [],
   "metadata": {}
  },
  {
   "cell_type": "code",
   "execution_count": 96,
   "source": [
    "df1 = pd.DataFrame(X_train[0].T.todense(), index=vectorizer.get_feature_names(), columns=[\"TF-IDF\"])\r\n",
    "df1 = df1.sort_values('TF-IDF', ascending=False)\r\n",
    "print (df1.head(25))"
   ],
   "outputs": [
    {
     "output_type": "stream",
     "name": "stdout",
     "text": [
      "                TF-IDF\n",
      "hamburg       0.366063\n",
      "happy         0.248822\n",
      "dies          0.241311\n",
      "long          0.193943\n",
      "confusing     0.181723\n",
      "disappointed  0.179323\n",
      "budding       0.169466\n",
      "confesses     0.166139\n",
      "affections    0.165531\n",
      "inherits      0.158878\n",
      "time          0.156223\n",
      "studies       0.153114\n",
      "eric          0.151181\n",
      "loyal         0.151181\n",
      "stays         0.150275\n",
      "love          0.144585\n",
      "spent         0.140846\n",
      "musician      0.136222\n",
      "visits        0.135023\n",
      "ready         0.134877\n",
      "farm          0.130091\n",
      "meeting       0.128741\n",
      "asks          0.125983\n",
      "although      0.125415\n",
      "loves         0.122780\n"
     ]
    }
   ],
   "metadata": {}
  },
  {
   "cell_type": "code",
   "execution_count": 97,
   "source": [
    "X_test = vectorizer.transform(X_test)\r\n"
   ],
   "outputs": [],
   "metadata": {}
  },
  {
   "cell_type": "code",
   "execution_count": 98,
   "source": [
    "model_resultstfidf = {}\r\n",
    "mnb_grid = {\r\n",
    "    'estimator__alpha': [0, 0.2, 0.5, 0.8, 1.0],\r\n",
    "    'estimator__fit_prior' : [True, False],\r\n",
    " 'estimator__class_prior' : [None, [.4, .3, 0.08, .07, .06, .06], [.167, .167, .167, .167, .167, .167]]\r\n",
    "}\r\n",
    "\r\n",
    "\r\n",
    "mnb = MultinomialNB()\r\n",
    "clf = OneVsRestClassifier(mnb)\r\n",
    "mnb_grid = GridSearchCV(clf, param_grid = mnb_grid, cv = 5)\r\n",
    "mnb_grid.fit(X_train, y_train)\r\n",
    "print(mnb_grid.best_score_)\r\n",
    "\r\n",
    "model_resultstfidf['Multinomial Bayes'] = mnb_grid.best_score_"
   ],
   "outputs": [
    {
     "output_type": "stream",
     "name": "stdout",
     "text": [
      "0.2028883409651286\n"
     ]
    }
   ],
   "metadata": {}
  },
  {
   "cell_type": "markdown",
   "source": [
    "# LogisticRegression"
   ],
   "metadata": {}
  },
  {
   "cell_type": "code",
   "execution_count": 100,
   "source": [
    "lr_grid = {\r\n",
    "    'estimator__penalty' : ['l1', 'l2'],\r\n",
    "    'estimator__C' : [ 1e4, 1e10],\r\n",
    "    'estimator__class_weight' : ['balanced', None],\r\n",
    "    'estimator__solver' : ['lbfgs', 'liblinear'],\r\n",
    "    'estimator__multi_class' : ['ovr', 'multinomial']\r\n",
    "}\r\n",
    "\r\n",
    "\r\n",
    "\r\n",
    "lr = LogisticRegression()\r\n",
    "clf = OneVsRestClassifier(lr)\r\n",
    "logreg_tfidf_gs = GridSearchCV(clf, param_grid = lr_grid, cv = 5)\r\n",
    "logreg_tfidf_gs.fit(X_train, y_train)\r\n",
    "print(logreg_tfidf_gs.best_score_)\r\n",
    "model_resultstfidf['Logistic Regression'] = logreg_tfidf_gs.best_score_"
   ],
   "outputs": [
    {
     "output_type": "stream",
     "name": "stdout",
     "text": [
      "0.12888340965128567\n"
     ]
    }
   ],
   "metadata": {}
  },
  {
   "cell_type": "code",
   "execution_count": 142,
   "source": [
    "lr = LogisticRegression()\r\n",
    "clf = OneVsRestClassifier(lr)"
   ],
   "outputs": [],
   "metadata": {}
  },
  {
   "cell_type": "code",
   "execution_count": 143,
   "source": [
    "# fit model on train data\r\n",
    "clf.fit(X_train, y_train)"
   ],
   "outputs": [
    {
     "output_type": "execute_result",
     "data": {
      "text/plain": [
       "OneVsRestClassifier(estimator=LogisticRegression())"
      ]
     },
     "metadata": {},
     "execution_count": 143
    }
   ],
   "metadata": {}
  },
  {
   "cell_type": "code",
   "execution_count": 144,
   "source": [
    "y_pred = clf.predict(X_test)\r\n"
   ],
   "outputs": [],
   "metadata": {}
  },
  {
   "cell_type": "code",
   "execution_count": 145,
   "source": [
    "f1_score(y_test, y_pred, average=\"micro\")\r\n"
   ],
   "outputs": [
    {
     "output_type": "execute_result",
     "data": {
      "text/plain": [
       "0.44468149954282227"
      ]
     },
     "metadata": {},
     "execution_count": 145
    }
   ],
   "metadata": {}
  },
  {
   "cell_type": "code",
   "execution_count": 173,
   "source": [
    "ths = np.arange(.15,.3,.001)\r\n",
    "dicth={}\r\n",
    "for t in ths:\r\n",
    "    y_pred_new = (y_pred_prob >= t).astype(int)\r\n",
    "    dicth[t] = (f1_score(y_test, y_pred_new, average=\"micro\"))\r\n"
   ],
   "outputs": [],
   "metadata": {}
  },
  {
   "cell_type": "code",
   "execution_count": 174,
   "source": [
    "max(dicth.items(), key=operator.itemgetter(1))\r\n"
   ],
   "outputs": [
    {
     "output_type": "execute_result",
     "data": {
      "text/plain": [
       "(0.22500000000000006, 0.5720626631853786)"
      ]
     },
     "metadata": {},
     "execution_count": 174
    }
   ],
   "metadata": {}
  },
  {
   "cell_type": "code",
   "execution_count": 108,
   "source": [
    "from sklearn.metrics import accuracy_score, classification_report\r\n",
    "print('Test Accuracy score:', accuracy_score(y_test, y_pred_new))\r\n",
    "print(classification_report(y_test, y_pred_new))"
   ],
   "outputs": [
    {
     "output_type": "stream",
     "name": "stdout",
     "text": [
      "Test Accuracy score: 0.12834601296139758\n",
      "              precision    recall  f1-score   support\n",
      "\n",
      "           0       0.50      0.61      0.55       998\n",
      "           1       0.47      0.36      0.40       556\n",
      "           2       0.69      0.36      0.47       355\n",
      "           3       0.53      0.24      0.34       360\n",
      "           4       0.46      0.85      0.60      2121\n",
      "           5       0.47      0.46      0.46       674\n",
      "           6       0.72      0.71      0.71       654\n",
      "           7       0.52      0.95      0.67      3152\n",
      "           8       0.56      0.23      0.33       327\n",
      "           9       0.00      0.00      0.00        46\n",
      "          10       0.63      0.63      0.63       757\n",
      "          11       0.00      0.00      0.00        24\n",
      "          12       0.25      0.04      0.07       136\n",
      "          13       0.46      0.25      0.32       374\n",
      "          14       0.43      0.54      0.48       993\n",
      "          15       0.65      0.48      0.55       459\n",
      "          16       0.44      0.59      0.50      1095\n",
      "          17       0.59      0.46      0.52       255\n",
      "          18       0.86      0.52      0.64       161\n",
      "\n",
      "   micro avg       0.51      0.66      0.57     13497\n",
      "   macro avg       0.48      0.44      0.43     13497\n",
      "weighted avg       0.51      0.66      0.55     13497\n",
      " samples avg       0.54      0.72      0.57     13497\n",
      "\n"
     ]
    }
   ],
   "metadata": {}
  },
  {
   "cell_type": "markdown",
   "source": [
    "# Decision Tree"
   ],
   "metadata": {}
  },
  {
   "cell_type": "code",
   "execution_count": 111,
   "source": [
    "grid = {\r\n",
    "    'estimator__criterion': ['gini', 'entropy'],\r\n",
    "    'estimator__max_depth': [1, 2, 5, 10],\r\n",
    "    'estimator__min_samples_split': [1, 5, 10, 20]\r\n",
    "}\r\n",
    "\r\n",
    "\r\n",
    "\r\n",
    "dt_clf = DecisionTreeClassifier (random_state = 42)\r\n",
    "clf = OneVsRestClassifier(dt_clf)\r\n",
    "gs_tfidf_tree = GridSearchCV(clf, param_grid = grid, cv = 5)\r\n",
    "gs_tfidf_tree.fit(X_train, y_train)\r\n",
    "\r\n",
    "print(gs_tfidf_tree.best_score_)\r\n",
    "model_resultstfidf['Decision Tree'] = gs_tfidf_tree.best_score_"
   ],
   "outputs": [
    {
     "output_type": "stream",
     "name": "stdout",
     "text": [
      "0.13466009158154282\n"
     ]
    }
   ],
   "metadata": {}
  },
  {
   "cell_type": "markdown",
   "source": [
    "# SGD"
   ],
   "metadata": {}
  },
  {
   "cell_type": "code",
   "execution_count": 113,
   "source": [
    "grid = {\r\n",
    "    'estimator_loss' : ['hinge', 'log'],\r\n",
    "    'estimator_penalty' : ['l2', 'l1'],\r\n",
    "    'estimator_alpha' : [1e-3, 1e-4, 1e-5],\r\n",
    "    'estimator_max_iter' : [20, 25, 30],\r\n",
    "    'estimator_class_weight' : ['balanced', None]\r\n",
    "}\r\n",
    "\r\n",
    "\r\n",
    "sgd = SGDClassifier(random_state=42)\r\n",
    "clf = OneVsRestClassifier(sgd)\r\n",
    "sgd_tfidf_gs = GridSearchCV(clf, param_grid = grid, cv = 5)\r\n",
    "sgd_tfidf_gs.fit(X_train, y_train)\r\n",
    "\r\n",
    "print(sgd_tfidf_gs.best_score_)\r\n",
    "model_resultstfidf['SGD'] = sgd_tfidf_gs.best_score_"
   ],
   "outputs": [
    {
     "output_type": "stream",
     "name": "stdout",
     "text": [
      "0.1246213455442057\n"
     ]
    }
   ],
   "metadata": {}
  },
  {
   "cell_type": "code",
   "execution_count": 114,
   "source": [
    "from sklearn.metrics import accuracy_score, classification_report\r\n",
    "print('Test Accuracy score:', accuracy_score(y_test, y_pred_new))\r\n",
    "print(classification_report(y_test, y_pred_new))"
   ],
   "outputs": [
    {
     "output_type": "stream",
     "name": "stdout",
     "text": [
      "Test Accuracy score: 0.12834601296139758\n",
      "              precision    recall  f1-score   support\n",
      "\n",
      "           0       0.50      0.61      0.55       998\n",
      "           1       0.47      0.36      0.40       556\n",
      "           2       0.69      0.36      0.47       355\n",
      "           3       0.53      0.24      0.34       360\n",
      "           4       0.46      0.85      0.60      2121\n",
      "           5       0.47      0.46      0.46       674\n",
      "           6       0.72      0.71      0.71       654\n",
      "           7       0.52      0.95      0.67      3152\n",
      "           8       0.56      0.23      0.33       327\n",
      "           9       0.00      0.00      0.00        46\n",
      "          10       0.63      0.63      0.63       757\n",
      "          11       0.00      0.00      0.00        24\n",
      "          12       0.25      0.04      0.07       136\n",
      "          13       0.46      0.25      0.32       374\n",
      "          14       0.43      0.54      0.48       993\n",
      "          15       0.65      0.48      0.55       459\n",
      "          16       0.44      0.59      0.50      1095\n",
      "          17       0.59      0.46      0.52       255\n",
      "          18       0.86      0.52      0.64       161\n",
      "\n",
      "   micro avg       0.51      0.66      0.57     13497\n",
      "   macro avg       0.48      0.44      0.43     13497\n",
      "weighted avg       0.51      0.66      0.55     13497\n",
      " samples avg       0.54      0.72      0.57     13497\n",
      "\n"
     ]
    }
   ],
   "metadata": {}
  }
 ],
 "metadata": {
  "orig_nbformat": 4,
  "language_info": {
   "name": "python",
   "version": "3.9.7",
   "mimetype": "text/x-python",
   "codemirror_mode": {
    "name": "ipython",
    "version": 3
   },
   "pygments_lexer": "ipython3",
   "nbconvert_exporter": "python",
   "file_extension": ".py"
  },
  "kernelspec": {
   "name": "python3",
   "display_name": "Python 3.9.7 64-bit"
  },
  "interpreter": {
   "hash": "ad4a7f633457edeca986db117c49439398b3575b7cfc8b89bb9541a12d05f016"
  }
 },
 "nbformat": 4,
 "nbformat_minor": 2
}